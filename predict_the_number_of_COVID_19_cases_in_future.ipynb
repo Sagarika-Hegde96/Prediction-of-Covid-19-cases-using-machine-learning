{
  "nbformat": 4,
  "nbformat_minor": 0,
  "metadata": {
    "kernelspec": {
      "display_name": "Python 3",
      "language": "python",
      "name": "python3"
    },
    "language_info": {
      "codemirror_mode": {
        "name": "ipython",
        "version": 3
      },
      "file_extension": ".py",
      "mimetype": "text/x-python",
      "name": "python",
      "nbconvert_exporter": "python",
      "pygments_lexer": "ipython3",
      "version": "3.7.6"
    },
    "colab": {
      "name": "Stomble_Task-predict the number of COVID-19 cases in future.ipynb",
      "provenance": [],
      "collapsed_sections": [],
      "toc_visible": true
    }
  },
  "cells": [
    {
      "cell_type": "markdown",
      "metadata": {
        "id": "KUZoxCCDM0LU"
      },
      "source": [
        "#Prediction of Covid_19 cases in Future"
      ]
    },
    {
      "cell_type": "code",
      "metadata": {
        "colab": {
          "base_uri": "https://localhost:8080/"
        },
        "id": "IJD0d0sDuEKz",
        "outputId": "04d718d1-e7f3-44a7-cfca-9482c7a67d90"
      },
      "source": [
        "from google.colab import drive\r\n",
        "drive.mount('/content/drive')"
      ],
      "execution_count": 447,
      "outputs": [
        {
          "output_type": "stream",
          "text": [
            "Drive already mounted at /content/drive; to attempt to forcibly remount, call drive.mount(\"/content/drive\", force_remount=True).\n"
          ],
          "name": "stdout"
        }
      ]
    },
    {
      "cell_type": "code",
      "metadata": {
        "id": "VxLcqxs1tUKX"
      },
      "source": [
        "#Importing Packages\n",
        "import pandas as pd\n",
        "import numpy as np\n",
        "import pandas as pd\n",
        "import matplotlib\n",
        "import matplotlib.pyplot as pp\n",
        "import matplotlib.pyplot as plt\n",
        "import seaborn as sns\n",
        "import sklearn \n",
        "import math\n",
        "import time\n",
        "from sklearn.model_selection import RandomizedSearchCV, train_test_split\n",
        "from sklearn.svm import SVR\n",
        "from sklearn.metrics import mean_squared_error, mean_absolute_error\n",
        "import datetime\n",
        "\n",
        "%matplotlib inline"
      ],
      "execution_count": 448,
      "outputs": []
    },
    {
      "cell_type": "code",
      "metadata": {
        "colab": {
          "base_uri": "https://localhost:8080/",
          "height": 244
        },
        "id": "r8BHvWEdtUKy",
        "outputId": "19585a98-a358-4ba2-9757-78b5161abfb9"
      },
      "source": [
        "import numpy as np # linear algebra\n",
        "import pandas as pd # data processing, CSV file I/O (e.g. pd.read_csv)\n",
        "\n",
        "\n",
        "\n",
        "#read the data and store data titled time_series_covid19_confirmed_global.csv\n",
        "covid_19_trend = ('/content/drive/My Drive/Stomble_Task/time_series_covid19_confirmed_global.csv')\n",
        "confirmed_cases_df = pd.read_csv(covid_19_trend) \n",
        "confirmed_cases_df.head()"
      ],
      "execution_count": 449,
      "outputs": [
        {
          "output_type": "execute_result",
          "data": {
            "text/html": [
              "<div>\n",
              "<style scoped>\n",
              "    .dataframe tbody tr th:only-of-type {\n",
              "        vertical-align: middle;\n",
              "    }\n",
              "\n",
              "    .dataframe tbody tr th {\n",
              "        vertical-align: top;\n",
              "    }\n",
              "\n",
              "    .dataframe thead th {\n",
              "        text-align: right;\n",
              "    }\n",
              "</style>\n",
              "<table border=\"1\" class=\"dataframe\">\n",
              "  <thead>\n",
              "    <tr style=\"text-align: right;\">\n",
              "      <th></th>\n",
              "      <th>Province/State</th>\n",
              "      <th>Country/Region</th>\n",
              "      <th>Lat</th>\n",
              "      <th>Long</th>\n",
              "      <th>1/22/20</th>\n",
              "      <th>1/23/20</th>\n",
              "      <th>1/24/20</th>\n",
              "      <th>1/25/20</th>\n",
              "      <th>1/26/20</th>\n",
              "      <th>1/27/20</th>\n",
              "      <th>1/28/20</th>\n",
              "      <th>1/29/20</th>\n",
              "      <th>1/30/20</th>\n",
              "      <th>1/31/20</th>\n",
              "      <th>2/01/2020</th>\n",
              "      <th>2/02/2020</th>\n",
              "      <th>2/03/2020</th>\n",
              "      <th>2/04/2020</th>\n",
              "      <th>2/05/2020</th>\n",
              "      <th>2/06/2020</th>\n",
              "      <th>2/07/2020</th>\n",
              "      <th>2/08/2020</th>\n",
              "      <th>2/09/2020</th>\n",
              "      <th>2/10/2020</th>\n",
              "      <th>2/11/2020</th>\n",
              "      <th>2/12/2020</th>\n",
              "      <th>2/13/20</th>\n",
              "      <th>2/14/20</th>\n",
              "      <th>2/15/20</th>\n",
              "      <th>2/16/20</th>\n",
              "      <th>2/17/20</th>\n",
              "      <th>2/18/20</th>\n",
              "      <th>2/19/20</th>\n",
              "      <th>2/20/20</th>\n",
              "      <th>2/21/20</th>\n",
              "      <th>2/22/20</th>\n",
              "      <th>2/23/20</th>\n",
              "      <th>2/24/20</th>\n",
              "      <th>2/25/20</th>\n",
              "      <th>2/26/20</th>\n",
              "      <th>...</th>\n",
              "      <th>1/09/2021</th>\n",
              "      <th>1/10/2021</th>\n",
              "      <th>1/11/2021</th>\n",
              "      <th>1/12/2021</th>\n",
              "      <th>1/13/21</th>\n",
              "      <th>1/14/21</th>\n",
              "      <th>1/15/21</th>\n",
              "      <th>1/16/21</th>\n",
              "      <th>1/17/21</th>\n",
              "      <th>1/18/21</th>\n",
              "      <th>1/19/21</th>\n",
              "      <th>1/20/21</th>\n",
              "      <th>1/21/21</th>\n",
              "      <th>1/22/21</th>\n",
              "      <th>1/23/21</th>\n",
              "      <th>1/24/21</th>\n",
              "      <th>1/25/21</th>\n",
              "      <th>1/26/21</th>\n",
              "      <th>1/27/21</th>\n",
              "      <th>1/28/21</th>\n",
              "      <th>1/29/21</th>\n",
              "      <th>1/30/21</th>\n",
              "      <th>1/31/21</th>\n",
              "      <th>2/01/2021</th>\n",
              "      <th>2/02/2021</th>\n",
              "      <th>2/03/2021</th>\n",
              "      <th>2/04/2021</th>\n",
              "      <th>2/05/2021</th>\n",
              "      <th>2/06/2021</th>\n",
              "      <th>2/07/2021</th>\n",
              "      <th>2/08/2021</th>\n",
              "      <th>2/09/2021</th>\n",
              "      <th>2/10/2021</th>\n",
              "      <th>2/11/2021</th>\n",
              "      <th>2/12/2021</th>\n",
              "      <th>2/13/21</th>\n",
              "      <th>2/14/21</th>\n",
              "      <th>2/15/21</th>\n",
              "      <th>2/16/21</th>\n",
              "      <th>2/17/21</th>\n",
              "    </tr>\n",
              "  </thead>\n",
              "  <tbody>\n",
              "    <tr>\n",
              "      <th>0</th>\n",
              "      <td>NaN</td>\n",
              "      <td>Afghanistan</td>\n",
              "      <td>33.93911</td>\n",
              "      <td>67.709953</td>\n",
              "      <td>0</td>\n",
              "      <td>0</td>\n",
              "      <td>0</td>\n",
              "      <td>0</td>\n",
              "      <td>0</td>\n",
              "      <td>0</td>\n",
              "      <td>0</td>\n",
              "      <td>0</td>\n",
              "      <td>0</td>\n",
              "      <td>0</td>\n",
              "      <td>0</td>\n",
              "      <td>0</td>\n",
              "      <td>0</td>\n",
              "      <td>0</td>\n",
              "      <td>0</td>\n",
              "      <td>0</td>\n",
              "      <td>0</td>\n",
              "      <td>0</td>\n",
              "      <td>0</td>\n",
              "      <td>0</td>\n",
              "      <td>0</td>\n",
              "      <td>0</td>\n",
              "      <td>0</td>\n",
              "      <td>0</td>\n",
              "      <td>0</td>\n",
              "      <td>0</td>\n",
              "      <td>0</td>\n",
              "      <td>0</td>\n",
              "      <td>0</td>\n",
              "      <td>0</td>\n",
              "      <td>0</td>\n",
              "      <td>0</td>\n",
              "      <td>0</td>\n",
              "      <td>1</td>\n",
              "      <td>1</td>\n",
              "      <td>1</td>\n",
              "      <td>...</td>\n",
              "      <td>53400</td>\n",
              "      <td>53489</td>\n",
              "      <td>53538</td>\n",
              "      <td>53584</td>\n",
              "      <td>53584</td>\n",
              "      <td>53775</td>\n",
              "      <td>53831</td>\n",
              "      <td>53938</td>\n",
              "      <td>53984</td>\n",
              "      <td>54062</td>\n",
              "      <td>54141</td>\n",
              "      <td>54278</td>\n",
              "      <td>54403</td>\n",
              "      <td>54483</td>\n",
              "      <td>54559</td>\n",
              "      <td>54595</td>\n",
              "      <td>54672</td>\n",
              "      <td>54750</td>\n",
              "      <td>54854</td>\n",
              "      <td>54891</td>\n",
              "      <td>54939</td>\n",
              "      <td>55008</td>\n",
              "      <td>55023</td>\n",
              "      <td>55059</td>\n",
              "      <td>55121</td>\n",
              "      <td>55174</td>\n",
              "      <td>55231</td>\n",
              "      <td>55265</td>\n",
              "      <td>55330</td>\n",
              "      <td>55335</td>\n",
              "      <td>55359</td>\n",
              "      <td>55384</td>\n",
              "      <td>55402</td>\n",
              "      <td>55420</td>\n",
              "      <td>55445</td>\n",
              "      <td>55473</td>\n",
              "      <td>55492</td>\n",
              "      <td>55514</td>\n",
              "      <td>55518</td>\n",
              "      <td>55540</td>\n",
              "    </tr>\n",
              "    <tr>\n",
              "      <th>1</th>\n",
              "      <td>NaN</td>\n",
              "      <td>Albania</td>\n",
              "      <td>41.15330</td>\n",
              "      <td>20.168300</td>\n",
              "      <td>0</td>\n",
              "      <td>0</td>\n",
              "      <td>0</td>\n",
              "      <td>0</td>\n",
              "      <td>0</td>\n",
              "      <td>0</td>\n",
              "      <td>0</td>\n",
              "      <td>0</td>\n",
              "      <td>0</td>\n",
              "      <td>0</td>\n",
              "      <td>0</td>\n",
              "      <td>0</td>\n",
              "      <td>0</td>\n",
              "      <td>0</td>\n",
              "      <td>0</td>\n",
              "      <td>0</td>\n",
              "      <td>0</td>\n",
              "      <td>0</td>\n",
              "      <td>0</td>\n",
              "      <td>0</td>\n",
              "      <td>0</td>\n",
              "      <td>0</td>\n",
              "      <td>0</td>\n",
              "      <td>0</td>\n",
              "      <td>0</td>\n",
              "      <td>0</td>\n",
              "      <td>0</td>\n",
              "      <td>0</td>\n",
              "      <td>0</td>\n",
              "      <td>0</td>\n",
              "      <td>0</td>\n",
              "      <td>0</td>\n",
              "      <td>0</td>\n",
              "      <td>0</td>\n",
              "      <td>0</td>\n",
              "      <td>0</td>\n",
              "      <td>...</td>\n",
              "      <td>63033</td>\n",
              "      <td>63595</td>\n",
              "      <td>63971</td>\n",
              "      <td>64627</td>\n",
              "      <td>65334</td>\n",
              "      <td>65994</td>\n",
              "      <td>66635</td>\n",
              "      <td>67216</td>\n",
              "      <td>67690</td>\n",
              "      <td>67982</td>\n",
              "      <td>68568</td>\n",
              "      <td>69238</td>\n",
              "      <td>69916</td>\n",
              "      <td>70655</td>\n",
              "      <td>71441</td>\n",
              "      <td>72274</td>\n",
              "      <td>72812</td>\n",
              "      <td>73691</td>\n",
              "      <td>74567</td>\n",
              "      <td>75454</td>\n",
              "      <td>76350</td>\n",
              "      <td>77251</td>\n",
              "      <td>78127</td>\n",
              "      <td>78992</td>\n",
              "      <td>79934</td>\n",
              "      <td>80941</td>\n",
              "      <td>81993</td>\n",
              "      <td>83082</td>\n",
              "      <td>84212</td>\n",
              "      <td>85336</td>\n",
              "      <td>86289</td>\n",
              "      <td>87528</td>\n",
              "      <td>88671</td>\n",
              "      <td>89776</td>\n",
              "      <td>90835</td>\n",
              "      <td>91987</td>\n",
              "      <td>93075</td>\n",
              "      <td>93850</td>\n",
              "      <td>94651</td>\n",
              "      <td>95726</td>\n",
              "    </tr>\n",
              "    <tr>\n",
              "      <th>2</th>\n",
              "      <td>NaN</td>\n",
              "      <td>Algeria</td>\n",
              "      <td>28.03390</td>\n",
              "      <td>1.659600</td>\n",
              "      <td>0</td>\n",
              "      <td>0</td>\n",
              "      <td>0</td>\n",
              "      <td>0</td>\n",
              "      <td>0</td>\n",
              "      <td>0</td>\n",
              "      <td>0</td>\n",
              "      <td>0</td>\n",
              "      <td>0</td>\n",
              "      <td>0</td>\n",
              "      <td>0</td>\n",
              "      <td>0</td>\n",
              "      <td>0</td>\n",
              "      <td>0</td>\n",
              "      <td>0</td>\n",
              "      <td>0</td>\n",
              "      <td>0</td>\n",
              "      <td>0</td>\n",
              "      <td>0</td>\n",
              "      <td>0</td>\n",
              "      <td>0</td>\n",
              "      <td>0</td>\n",
              "      <td>0</td>\n",
              "      <td>0</td>\n",
              "      <td>0</td>\n",
              "      <td>0</td>\n",
              "      <td>0</td>\n",
              "      <td>0</td>\n",
              "      <td>0</td>\n",
              "      <td>0</td>\n",
              "      <td>0</td>\n",
              "      <td>0</td>\n",
              "      <td>0</td>\n",
              "      <td>0</td>\n",
              "      <td>1</td>\n",
              "      <td>1</td>\n",
              "      <td>...</td>\n",
              "      <td>101913</td>\n",
              "      <td>102144</td>\n",
              "      <td>102369</td>\n",
              "      <td>102641</td>\n",
              "      <td>102860</td>\n",
              "      <td>103127</td>\n",
              "      <td>103381</td>\n",
              "      <td>103611</td>\n",
              "      <td>103833</td>\n",
              "      <td>104092</td>\n",
              "      <td>104341</td>\n",
              "      <td>104606</td>\n",
              "      <td>104852</td>\n",
              "      <td>105124</td>\n",
              "      <td>105369</td>\n",
              "      <td>105596</td>\n",
              "      <td>105854</td>\n",
              "      <td>106097</td>\n",
              "      <td>106359</td>\n",
              "      <td>106610</td>\n",
              "      <td>106887</td>\n",
              "      <td>107122</td>\n",
              "      <td>107339</td>\n",
              "      <td>107578</td>\n",
              "      <td>107841</td>\n",
              "      <td>108116</td>\n",
              "      <td>108381</td>\n",
              "      <td>108629</td>\n",
              "      <td>108629</td>\n",
              "      <td>109088</td>\n",
              "      <td>109313</td>\n",
              "      <td>109559</td>\n",
              "      <td>109782</td>\n",
              "      <td>110049</td>\n",
              "      <td>110303</td>\n",
              "      <td>110513</td>\n",
              "      <td>110711</td>\n",
              "      <td>110894</td>\n",
              "      <td>111069</td>\n",
              "      <td>111247</td>\n",
              "    </tr>\n",
              "    <tr>\n",
              "      <th>3</th>\n",
              "      <td>NaN</td>\n",
              "      <td>Andorra</td>\n",
              "      <td>42.50630</td>\n",
              "      <td>1.521800</td>\n",
              "      <td>0</td>\n",
              "      <td>0</td>\n",
              "      <td>0</td>\n",
              "      <td>0</td>\n",
              "      <td>0</td>\n",
              "      <td>0</td>\n",
              "      <td>0</td>\n",
              "      <td>0</td>\n",
              "      <td>0</td>\n",
              "      <td>0</td>\n",
              "      <td>0</td>\n",
              "      <td>0</td>\n",
              "      <td>0</td>\n",
              "      <td>0</td>\n",
              "      <td>0</td>\n",
              "      <td>0</td>\n",
              "      <td>0</td>\n",
              "      <td>0</td>\n",
              "      <td>0</td>\n",
              "      <td>0</td>\n",
              "      <td>0</td>\n",
              "      <td>0</td>\n",
              "      <td>0</td>\n",
              "      <td>0</td>\n",
              "      <td>0</td>\n",
              "      <td>0</td>\n",
              "      <td>0</td>\n",
              "      <td>0</td>\n",
              "      <td>0</td>\n",
              "      <td>0</td>\n",
              "      <td>0</td>\n",
              "      <td>0</td>\n",
              "      <td>0</td>\n",
              "      <td>0</td>\n",
              "      <td>0</td>\n",
              "      <td>0</td>\n",
              "      <td>...</td>\n",
              "      <td>8586</td>\n",
              "      <td>8586</td>\n",
              "      <td>8586</td>\n",
              "      <td>8682</td>\n",
              "      <td>8818</td>\n",
              "      <td>8868</td>\n",
              "      <td>8946</td>\n",
              "      <td>9038</td>\n",
              "      <td>9083</td>\n",
              "      <td>9083</td>\n",
              "      <td>9194</td>\n",
              "      <td>9308</td>\n",
              "      <td>9379</td>\n",
              "      <td>9416</td>\n",
              "      <td>9499</td>\n",
              "      <td>9549</td>\n",
              "      <td>9596</td>\n",
              "      <td>9638</td>\n",
              "      <td>9716</td>\n",
              "      <td>9779</td>\n",
              "      <td>9837</td>\n",
              "      <td>9885</td>\n",
              "      <td>9937</td>\n",
              "      <td>9972</td>\n",
              "      <td>10017</td>\n",
              "      <td>10070</td>\n",
              "      <td>10137</td>\n",
              "      <td>10172</td>\n",
              "      <td>10206</td>\n",
              "      <td>10251</td>\n",
              "      <td>10275</td>\n",
              "      <td>10312</td>\n",
              "      <td>10352</td>\n",
              "      <td>10391</td>\n",
              "      <td>10427</td>\n",
              "      <td>10463</td>\n",
              "      <td>10503</td>\n",
              "      <td>10538</td>\n",
              "      <td>10555</td>\n",
              "      <td>10583</td>\n",
              "    </tr>\n",
              "    <tr>\n",
              "      <th>4</th>\n",
              "      <td>NaN</td>\n",
              "      <td>Angola</td>\n",
              "      <td>-11.20270</td>\n",
              "      <td>17.873900</td>\n",
              "      <td>0</td>\n",
              "      <td>0</td>\n",
              "      <td>0</td>\n",
              "      <td>0</td>\n",
              "      <td>0</td>\n",
              "      <td>0</td>\n",
              "      <td>0</td>\n",
              "      <td>0</td>\n",
              "      <td>0</td>\n",
              "      <td>0</td>\n",
              "      <td>0</td>\n",
              "      <td>0</td>\n",
              "      <td>0</td>\n",
              "      <td>0</td>\n",
              "      <td>0</td>\n",
              "      <td>0</td>\n",
              "      <td>0</td>\n",
              "      <td>0</td>\n",
              "      <td>0</td>\n",
              "      <td>0</td>\n",
              "      <td>0</td>\n",
              "      <td>0</td>\n",
              "      <td>0</td>\n",
              "      <td>0</td>\n",
              "      <td>0</td>\n",
              "      <td>0</td>\n",
              "      <td>0</td>\n",
              "      <td>0</td>\n",
              "      <td>0</td>\n",
              "      <td>0</td>\n",
              "      <td>0</td>\n",
              "      <td>0</td>\n",
              "      <td>0</td>\n",
              "      <td>0</td>\n",
              "      <td>0</td>\n",
              "      <td>0</td>\n",
              "      <td>...</td>\n",
              "      <td>18156</td>\n",
              "      <td>18193</td>\n",
              "      <td>18254</td>\n",
              "      <td>18343</td>\n",
              "      <td>18425</td>\n",
              "      <td>18613</td>\n",
              "      <td>18679</td>\n",
              "      <td>18765</td>\n",
              "      <td>18875</td>\n",
              "      <td>18926</td>\n",
              "      <td>19011</td>\n",
              "      <td>19093</td>\n",
              "      <td>19177</td>\n",
              "      <td>19269</td>\n",
              "      <td>19367</td>\n",
              "      <td>19399</td>\n",
              "      <td>19476</td>\n",
              "      <td>19553</td>\n",
              "      <td>19580</td>\n",
              "      <td>19672</td>\n",
              "      <td>19723</td>\n",
              "      <td>19782</td>\n",
              "      <td>19796</td>\n",
              "      <td>19829</td>\n",
              "      <td>19900</td>\n",
              "      <td>19937</td>\n",
              "      <td>19996</td>\n",
              "      <td>20030</td>\n",
              "      <td>20062</td>\n",
              "      <td>20086</td>\n",
              "      <td>20112</td>\n",
              "      <td>20163</td>\n",
              "      <td>20210</td>\n",
              "      <td>20261</td>\n",
              "      <td>20294</td>\n",
              "      <td>20329</td>\n",
              "      <td>20366</td>\n",
              "      <td>20381</td>\n",
              "      <td>20389</td>\n",
              "      <td>20400</td>\n",
              "    </tr>\n",
              "  </tbody>\n",
              "</table>\n",
              "<p>5 rows × 397 columns</p>\n",
              "</div>"
            ],
            "text/plain": [
              "  Province/State Country/Region       Lat  ...  2/15/21  2/16/21  2/17/21\n",
              "0            NaN    Afghanistan  33.93911  ...    55514    55518    55540\n",
              "1            NaN        Albania  41.15330  ...    93850    94651    95726\n",
              "2            NaN        Algeria  28.03390  ...   110894   111069   111247\n",
              "3            NaN        Andorra  42.50630  ...    10538    10555    10583\n",
              "4            NaN         Angola -11.20270  ...    20381    20389    20400\n",
              "\n",
              "[5 rows x 397 columns]"
            ]
          },
          "metadata": {
            "tags": []
          },
          "execution_count": 449
        }
      ]
    },
    {
      "cell_type": "code",
      "metadata": {
        "colab": {
          "base_uri": "https://localhost:8080/"
        },
        "id": "TErxWC5wtUK5",
        "outputId": "92843323-576d-4727-82a1-6dc7e9b264c1"
      },
      "source": [
        "#shape of the data\n",
        "confirmed_cases_df.shape\n"
      ],
      "execution_count": 450,
      "outputs": [
        {
          "output_type": "execute_result",
          "data": {
            "text/plain": [
              "(273, 397)"
            ]
          },
          "metadata": {
            "tags": []
          },
          "execution_count": 450
        }
      ]
    },
    {
      "cell_type": "code",
      "metadata": {
        "colab": {
          "base_uri": "https://localhost:8080/"
        },
        "id": "O4bMw1OOHfU8",
        "outputId": "d7a8bba4-c99d-42b9-a9d6-c44486ecb98f"
      },
      "source": [
        "#describinh the data\r\n",
        "confirmed_cases_df.describe"
      ],
      "execution_count": 451,
      "outputs": [
        {
          "output_type": "execute_result",
          "data": {
            "text/plain": [
              "<bound method NDFrame.describe of     Province/State      Country/Region        Lat  ...  2/15/21  2/16/21  2/17/21\n",
              "0              NaN         Afghanistan  33.939110  ...    55514    55518    55540\n",
              "1              NaN             Albania  41.153300  ...    93850    94651    95726\n",
              "2              NaN             Algeria  28.033900  ...   110894   111069   111247\n",
              "3              NaN             Andorra  42.506300  ...    10538    10555    10583\n",
              "4              NaN              Angola -11.202700  ...    20381    20389    20400\n",
              "..             ...                 ...        ...  ...      ...      ...      ...\n",
              "268            NaN             Vietnam  14.058324  ...     2269     2311     2329\n",
              "269            NaN  West Bank and Gaza  31.952200  ...   168444   169487   170527\n",
              "270            NaN               Yemen  15.552727  ...     2145     2148     2151\n",
              "271            NaN              Zambia -13.133897  ...    70248    70823    71677\n",
              "272            NaN            Zimbabwe -19.015438  ...    35222    35315    35423\n",
              "\n",
              "[273 rows x 397 columns]>"
            ]
          },
          "metadata": {
            "tags": []
          },
          "execution_count": 451
        }
      ]
    },
    {
      "cell_type": "markdown",
      "metadata": {
        "id": "Gw0fgSQfH9qW"
      },
      "source": [
        "\r\n",
        "\r\n",
        "```\r\n",
        "\r\n",
        "```\r\n",
        "\r\n",
        "## Data Visualization of Number of Cases-Covid-19 in World-wide"
      ]
    },
    {
      "cell_type": "markdown",
      "metadata": {
        "id": "Tn-l8gX9Nf1D"
      },
      "source": [
        "## Data PreProcessing"
      ]
    },
    {
      "cell_type": "code",
      "metadata": {
        "id": "xHKLDZQBt5sQ"
      },
      "source": [
        "confirmed_cases_df.rename(columns={\"Province/State\": \"Province_State\", \"Country/Region\": \"Country_Region\"}, inplace=True)"
      ],
      "execution_count": 452,
      "outputs": []
    },
    {
      "cell_type": "code",
      "metadata": {
        "colab": {
          "base_uri": "https://localhost:8080/",
          "height": 402
        },
        "id": "GPepilTKtUK6",
        "outputId": "d304071a-e38b-4afa-b4bb-518df57b8a38"
      },
      "source": [
        "#changing the dataframe format from wide to long using melt() function\n",
        "confirmed_cases_melt_df = pd.melt(confirmed_cases_df, id_vars=['Province_State', 'Country_Region', 'Lat', 'Long'],\n",
        "                          var_name = 'Date',\n",
        "                          value_name = 'Confirmed_cases')\n",
        "confirmed_cases_melt_df"
      ],
      "execution_count": 453,
      "outputs": [
        {
          "output_type": "execute_result",
          "data": {
            "text/html": [
              "<div>\n",
              "<style scoped>\n",
              "    .dataframe tbody tr th:only-of-type {\n",
              "        vertical-align: middle;\n",
              "    }\n",
              "\n",
              "    .dataframe tbody tr th {\n",
              "        vertical-align: top;\n",
              "    }\n",
              "\n",
              "    .dataframe thead th {\n",
              "        text-align: right;\n",
              "    }\n",
              "</style>\n",
              "<table border=\"1\" class=\"dataframe\">\n",
              "  <thead>\n",
              "    <tr style=\"text-align: right;\">\n",
              "      <th></th>\n",
              "      <th>Province_State</th>\n",
              "      <th>Country_Region</th>\n",
              "      <th>Lat</th>\n",
              "      <th>Long</th>\n",
              "      <th>Date</th>\n",
              "      <th>Confirmed_cases</th>\n",
              "    </tr>\n",
              "  </thead>\n",
              "  <tbody>\n",
              "    <tr>\n",
              "      <th>0</th>\n",
              "      <td>NaN</td>\n",
              "      <td>Afghanistan</td>\n",
              "      <td>33.939110</td>\n",
              "      <td>67.709953</td>\n",
              "      <td>1/22/20</td>\n",
              "      <td>0</td>\n",
              "    </tr>\n",
              "    <tr>\n",
              "      <th>1</th>\n",
              "      <td>NaN</td>\n",
              "      <td>Albania</td>\n",
              "      <td>41.153300</td>\n",
              "      <td>20.168300</td>\n",
              "      <td>1/22/20</td>\n",
              "      <td>0</td>\n",
              "    </tr>\n",
              "    <tr>\n",
              "      <th>2</th>\n",
              "      <td>NaN</td>\n",
              "      <td>Algeria</td>\n",
              "      <td>28.033900</td>\n",
              "      <td>1.659600</td>\n",
              "      <td>1/22/20</td>\n",
              "      <td>0</td>\n",
              "    </tr>\n",
              "    <tr>\n",
              "      <th>3</th>\n",
              "      <td>NaN</td>\n",
              "      <td>Andorra</td>\n",
              "      <td>42.506300</td>\n",
              "      <td>1.521800</td>\n",
              "      <td>1/22/20</td>\n",
              "      <td>0</td>\n",
              "    </tr>\n",
              "    <tr>\n",
              "      <th>4</th>\n",
              "      <td>NaN</td>\n",
              "      <td>Angola</td>\n",
              "      <td>-11.202700</td>\n",
              "      <td>17.873900</td>\n",
              "      <td>1/22/20</td>\n",
              "      <td>0</td>\n",
              "    </tr>\n",
              "    <tr>\n",
              "      <th>...</th>\n",
              "      <td>...</td>\n",
              "      <td>...</td>\n",
              "      <td>...</td>\n",
              "      <td>...</td>\n",
              "      <td>...</td>\n",
              "      <td>...</td>\n",
              "    </tr>\n",
              "    <tr>\n",
              "      <th>107284</th>\n",
              "      <td>NaN</td>\n",
              "      <td>Vietnam</td>\n",
              "      <td>14.058324</td>\n",
              "      <td>108.277199</td>\n",
              "      <td>2/17/21</td>\n",
              "      <td>2329</td>\n",
              "    </tr>\n",
              "    <tr>\n",
              "      <th>107285</th>\n",
              "      <td>NaN</td>\n",
              "      <td>West Bank and Gaza</td>\n",
              "      <td>31.952200</td>\n",
              "      <td>35.233200</td>\n",
              "      <td>2/17/21</td>\n",
              "      <td>170527</td>\n",
              "    </tr>\n",
              "    <tr>\n",
              "      <th>107286</th>\n",
              "      <td>NaN</td>\n",
              "      <td>Yemen</td>\n",
              "      <td>15.552727</td>\n",
              "      <td>48.516388</td>\n",
              "      <td>2/17/21</td>\n",
              "      <td>2151</td>\n",
              "    </tr>\n",
              "    <tr>\n",
              "      <th>107287</th>\n",
              "      <td>NaN</td>\n",
              "      <td>Zambia</td>\n",
              "      <td>-13.133897</td>\n",
              "      <td>27.849332</td>\n",
              "      <td>2/17/21</td>\n",
              "      <td>71677</td>\n",
              "    </tr>\n",
              "    <tr>\n",
              "      <th>107288</th>\n",
              "      <td>NaN</td>\n",
              "      <td>Zimbabwe</td>\n",
              "      <td>-19.015438</td>\n",
              "      <td>29.154857</td>\n",
              "      <td>2/17/21</td>\n",
              "      <td>35423</td>\n",
              "    </tr>\n",
              "  </tbody>\n",
              "</table>\n",
              "<p>107289 rows × 6 columns</p>\n",
              "</div>"
            ],
            "text/plain": [
              "       Province_State      Country_Region  ...     Date  Confirmed_cases\n",
              "0                 NaN         Afghanistan  ...  1/22/20                0\n",
              "1                 NaN             Albania  ...  1/22/20                0\n",
              "2                 NaN             Algeria  ...  1/22/20                0\n",
              "3                 NaN             Andorra  ...  1/22/20                0\n",
              "4                 NaN              Angola  ...  1/22/20                0\n",
              "...               ...                 ...  ...      ...              ...\n",
              "107284            NaN             Vietnam  ...  2/17/21             2329\n",
              "107285            NaN  West Bank and Gaza  ...  2/17/21           170527\n",
              "107286            NaN               Yemen  ...  2/17/21             2151\n",
              "107287            NaN              Zambia  ...  2/17/21            71677\n",
              "107288            NaN            Zimbabwe  ...  2/17/21            35423\n",
              "\n",
              "[107289 rows x 6 columns]"
            ]
          },
          "metadata": {
            "tags": []
          },
          "execution_count": 453
        }
      ]
    },
    {
      "cell_type": "code",
      "metadata": {
        "colab": {
          "base_uri": "https://localhost:8080/"
        },
        "id": "evqfViFFtUK9",
        "outputId": "5d85b8ba-534b-45d4-ecc0-e68ce3414f54"
      },
      "source": [
        "#shape of the changed format\n",
        "confirmed_cases_melt_df.shape\n"
      ],
      "execution_count": 454,
      "outputs": [
        {
          "output_type": "execute_result",
          "data": {
            "text/plain": [
              "(107289, 6)"
            ]
          },
          "metadata": {
            "tags": []
          },
          "execution_count": 454
        }
      ]
    },
    {
      "cell_type": "code",
      "metadata": {
        "colab": {
          "base_uri": "https://localhost:8080/"
        },
        "id": "qYs8eb7LtUK_",
        "outputId": "55c8d9c4-2fd7-407e-b2e2-7259c211c22f"
      },
      "source": [
        "confirmed_cases_melt_df.index"
      ],
      "execution_count": 455,
      "outputs": [
        {
          "output_type": "execute_result",
          "data": {
            "text/plain": [
              "RangeIndex(start=0, stop=107289, step=1)"
            ]
          },
          "metadata": {
            "tags": []
          },
          "execution_count": 455
        }
      ]
    },
    {
      "cell_type": "code",
      "metadata": {
        "colab": {
          "base_uri": "https://localhost:8080/"
        },
        "id": "Zlxf4ka4tULD",
        "outputId": "100cf9d5-88e9-4d65-cfdc-0026fd5cc98c"
      },
      "source": [
        "#checking for missing values\n",
        "confirmed_cases_melt_df.isnull().sum()"
      ],
      "execution_count": 456,
      "outputs": [
        {
          "output_type": "execute_result",
          "data": {
            "text/plain": [
              "Province_State     74277\n",
              "Country_Region         0\n",
              "Lat                  393\n",
              "Long                 393\n",
              "Date                   0\n",
              "Confirmed_cases        0\n",
              "dtype: int64"
            ]
          },
          "metadata": {
            "tags": []
          },
          "execution_count": 456
        }
      ]
    },
    {
      "cell_type": "code",
      "metadata": {
        "colab": {
          "base_uri": "https://localhost:8080/"
        },
        "id": "XHDSOYZBtULB",
        "outputId": "8dc61bf0-f7f6-432f-eeb4-e9ebb559a98a"
      },
      "source": [
        "#dsiplaying the columns in the dataset\r\n",
        "confirmed_cases_melt_df.columns"
      ],
      "execution_count": 457,
      "outputs": [
        {
          "output_type": "execute_result",
          "data": {
            "text/plain": [
              "Index(['Province_State', 'Country_Region', 'Lat', 'Long', 'Date',\n",
              "       'Confirmed_cases'],\n",
              "      dtype='object')"
            ]
          },
          "metadata": {
            "tags": []
          },
          "execution_count": 457
        }
      ]
    },
    {
      "cell_type": "code",
      "metadata": {
        "colab": {
          "base_uri": "https://localhost:8080/",
          "height": 402
        },
        "id": "TRTsW-8otULF",
        "outputId": "424f0bd2-0016-4f7d-988c-eb606cff6bc5"
      },
      "source": [
        "#Dropping the Repatriated Travellers as there is a missing values for Lat and Long\n",
        "confirmed_cases_melt_df.dropna(axis=0, subset=['Lat'])\n",
        "confirmed_cases_melt_df.dropna(axis=0, subset=['Long'])\n",
        "confirmed_cases_melt_df"
      ],
      "execution_count": 458,
      "outputs": [
        {
          "output_type": "execute_result",
          "data": {
            "text/html": [
              "<div>\n",
              "<style scoped>\n",
              "    .dataframe tbody tr th:only-of-type {\n",
              "        vertical-align: middle;\n",
              "    }\n",
              "\n",
              "    .dataframe tbody tr th {\n",
              "        vertical-align: top;\n",
              "    }\n",
              "\n",
              "    .dataframe thead th {\n",
              "        text-align: right;\n",
              "    }\n",
              "</style>\n",
              "<table border=\"1\" class=\"dataframe\">\n",
              "  <thead>\n",
              "    <tr style=\"text-align: right;\">\n",
              "      <th></th>\n",
              "      <th>Province_State</th>\n",
              "      <th>Country_Region</th>\n",
              "      <th>Lat</th>\n",
              "      <th>Long</th>\n",
              "      <th>Date</th>\n",
              "      <th>Confirmed_cases</th>\n",
              "    </tr>\n",
              "  </thead>\n",
              "  <tbody>\n",
              "    <tr>\n",
              "      <th>0</th>\n",
              "      <td>NaN</td>\n",
              "      <td>Afghanistan</td>\n",
              "      <td>33.939110</td>\n",
              "      <td>67.709953</td>\n",
              "      <td>1/22/20</td>\n",
              "      <td>0</td>\n",
              "    </tr>\n",
              "    <tr>\n",
              "      <th>1</th>\n",
              "      <td>NaN</td>\n",
              "      <td>Albania</td>\n",
              "      <td>41.153300</td>\n",
              "      <td>20.168300</td>\n",
              "      <td>1/22/20</td>\n",
              "      <td>0</td>\n",
              "    </tr>\n",
              "    <tr>\n",
              "      <th>2</th>\n",
              "      <td>NaN</td>\n",
              "      <td>Algeria</td>\n",
              "      <td>28.033900</td>\n",
              "      <td>1.659600</td>\n",
              "      <td>1/22/20</td>\n",
              "      <td>0</td>\n",
              "    </tr>\n",
              "    <tr>\n",
              "      <th>3</th>\n",
              "      <td>NaN</td>\n",
              "      <td>Andorra</td>\n",
              "      <td>42.506300</td>\n",
              "      <td>1.521800</td>\n",
              "      <td>1/22/20</td>\n",
              "      <td>0</td>\n",
              "    </tr>\n",
              "    <tr>\n",
              "      <th>4</th>\n",
              "      <td>NaN</td>\n",
              "      <td>Angola</td>\n",
              "      <td>-11.202700</td>\n",
              "      <td>17.873900</td>\n",
              "      <td>1/22/20</td>\n",
              "      <td>0</td>\n",
              "    </tr>\n",
              "    <tr>\n",
              "      <th>...</th>\n",
              "      <td>...</td>\n",
              "      <td>...</td>\n",
              "      <td>...</td>\n",
              "      <td>...</td>\n",
              "      <td>...</td>\n",
              "      <td>...</td>\n",
              "    </tr>\n",
              "    <tr>\n",
              "      <th>107284</th>\n",
              "      <td>NaN</td>\n",
              "      <td>Vietnam</td>\n",
              "      <td>14.058324</td>\n",
              "      <td>108.277199</td>\n",
              "      <td>2/17/21</td>\n",
              "      <td>2329</td>\n",
              "    </tr>\n",
              "    <tr>\n",
              "      <th>107285</th>\n",
              "      <td>NaN</td>\n",
              "      <td>West Bank and Gaza</td>\n",
              "      <td>31.952200</td>\n",
              "      <td>35.233200</td>\n",
              "      <td>2/17/21</td>\n",
              "      <td>170527</td>\n",
              "    </tr>\n",
              "    <tr>\n",
              "      <th>107286</th>\n",
              "      <td>NaN</td>\n",
              "      <td>Yemen</td>\n",
              "      <td>15.552727</td>\n",
              "      <td>48.516388</td>\n",
              "      <td>2/17/21</td>\n",
              "      <td>2151</td>\n",
              "    </tr>\n",
              "    <tr>\n",
              "      <th>107287</th>\n",
              "      <td>NaN</td>\n",
              "      <td>Zambia</td>\n",
              "      <td>-13.133897</td>\n",
              "      <td>27.849332</td>\n",
              "      <td>2/17/21</td>\n",
              "      <td>71677</td>\n",
              "    </tr>\n",
              "    <tr>\n",
              "      <th>107288</th>\n",
              "      <td>NaN</td>\n",
              "      <td>Zimbabwe</td>\n",
              "      <td>-19.015438</td>\n",
              "      <td>29.154857</td>\n",
              "      <td>2/17/21</td>\n",
              "      <td>35423</td>\n",
              "    </tr>\n",
              "  </tbody>\n",
              "</table>\n",
              "<p>107289 rows × 6 columns</p>\n",
              "</div>"
            ],
            "text/plain": [
              "       Province_State      Country_Region  ...     Date  Confirmed_cases\n",
              "0                 NaN         Afghanistan  ...  1/22/20                0\n",
              "1                 NaN             Albania  ...  1/22/20                0\n",
              "2                 NaN             Algeria  ...  1/22/20                0\n",
              "3                 NaN             Andorra  ...  1/22/20                0\n",
              "4                 NaN              Angola  ...  1/22/20                0\n",
              "...               ...                 ...  ...      ...              ...\n",
              "107284            NaN             Vietnam  ...  2/17/21             2329\n",
              "107285            NaN  West Bank and Gaza  ...  2/17/21           170527\n",
              "107286            NaN               Yemen  ...  2/17/21             2151\n",
              "107287            NaN              Zambia  ...  2/17/21            71677\n",
              "107288            NaN            Zimbabwe  ...  2/17/21            35423\n",
              "\n",
              "[107289 rows x 6 columns]"
            ]
          },
          "metadata": {
            "tags": []
          },
          "execution_count": 458
        }
      ]
    },
    {
      "cell_type": "code",
      "metadata": {
        "id": "xq1xZxNONAYX",
        "outputId": "c1870434-55a1-41e9-c653-42391e5805c4",
        "colab": {
          "base_uri": "https://localhost:8080/"
        }
      },
      "source": [
        "%pip install geopandas"
      ],
      "execution_count": 477,
      "outputs": [
        {
          "output_type": "stream",
          "text": [
            "Requirement already satisfied: geopandas in /usr/local/lib/python3.7/dist-packages (0.8.2)\n",
            "Requirement already satisfied: fiona in /usr/local/lib/python3.7/dist-packages (from geopandas) (1.8.18)\n",
            "Requirement already satisfied: pandas>=0.23.0 in /usr/local/lib/python3.7/dist-packages (from geopandas) (1.1.5)\n",
            "Requirement already satisfied: shapely in /usr/local/lib/python3.7/dist-packages (from geopandas) (1.7.1)\n",
            "Requirement already satisfied: pyproj>=2.2.0 in /usr/local/lib/python3.7/dist-packages (from geopandas) (3.0.0.post1)\n",
            "Requirement already satisfied: attrs>=17 in /usr/local/lib/python3.7/dist-packages (from fiona->geopandas) (20.3.0)\n",
            "Requirement already satisfied: six>=1.7 in /usr/local/lib/python3.7/dist-packages (from fiona->geopandas) (1.15.0)\n",
            "Requirement already satisfied: click-plugins>=1.0 in /usr/local/lib/python3.7/dist-packages (from fiona->geopandas) (1.1.1)\n",
            "Requirement already satisfied: cligj>=0.5 in /usr/local/lib/python3.7/dist-packages (from fiona->geopandas) (0.7.1)\n",
            "Requirement already satisfied: click<8,>=4.0 in /usr/local/lib/python3.7/dist-packages (from fiona->geopandas) (7.1.2)\n",
            "Requirement already satisfied: certifi in /usr/local/lib/python3.7/dist-packages (from fiona->geopandas) (2020.12.5)\n",
            "Requirement already satisfied: munch in /usr/local/lib/python3.7/dist-packages (from fiona->geopandas) (2.5.0)\n",
            "Requirement already satisfied: python-dateutil>=2.7.3 in /usr/local/lib/python3.7/dist-packages (from pandas>=0.23.0->geopandas) (2.8.1)\n",
            "Requirement already satisfied: numpy>=1.15.4 in /usr/local/lib/python3.7/dist-packages (from pandas>=0.23.0->geopandas) (1.19.5)\n",
            "Requirement already satisfied: pytz>=2017.2 in /usr/local/lib/python3.7/dist-packages (from pandas>=0.23.0->geopandas) (2018.9)\n"
          ],
          "name": "stdout"
        }
      ]
    },
    {
      "cell_type": "code",
      "metadata": {
        "colab": {
          "base_uri": "https://localhost:8080/",
          "height": 452
        },
        "id": "4MXjbHyAcIGL",
        "outputId": "071d525f-ed42-46ae-95da-4ebd89df5196"
      },
      "source": [
        "#Data Visualization of Number of Cases world-wide \r\n",
        "import seaborn as sns\r\n",
        "from shapely.geometry import Point\r\n",
        "import geopandas as gpd\r\n",
        "from geopandas import GeoDataFrame\r\n",
        "\r\n",
        "geometry = [Point(xy) for xy in zip(confirmed_cases_df['Long'], confirmed_cases_df['Lat'])]\r\n",
        "gdf = GeoDataFrame(confirmed_cases_df[['Lat','Long']], geometry=geometry)   \r\n",
        "\r\n",
        "#this is a simple map that goes with geopandas\r\n",
        "world = gpd.read_file(gpd.datasets.get_path('naturalearth_lowres'))\r\n",
        "gdf.plot(ax=world.plot(figsize=(15, 10)), marker='o', color='red', markersize=15);"
      ],
      "execution_count": 478,
      "outputs": [
        {
          "output_type": "display_data",
          "data": {
            "image/png": "[encoded data removed]",
            "text/plain": [
              "<Figure size 1080x720 with 1 Axes>"
            ]
          },
          "metadata": {
            "tags": [],
            "needs_background": "light"
          }
        }
      ]
    },
    {
      "cell_type": "markdown",
      "metadata": {
        "id": "1W16CeaG35fi"
      },
      "source": [
        "### Number of samples per country in our data"
      ]
    },
    {
      "cell_type": "code",
      "metadata": {
        "colab": {
          "base_uri": "https://localhost:8080/",
          "height": 785
        },
        "id": "INjfymBO8slP",
        "outputId": "6c22bbd3-8762-44dc-c3c4-c7f0d004c766"
      },
      "source": [
        "# Top 50 Country wise Confirmed cases acc to given data\r\n",
        "\r\n",
        "fig, ax = plt.subplots(figsize=(10, 13))\r\n",
        "sns.barplot(y=top_10.index[:50], x=top_10.values[:50])"
      ],
      "execution_count": 460,
      "outputs": [
        {
          "output_type": "execute_result",
          "data": {
            "text/plain": [
              "<matplotlib.axes._subplots.AxesSubplot at 0x7f339effaad0>"
            ]
          },
          "metadata": {
            "tags": []
          },
          "execution_count": 460
        },
        {
          "output_type": "display_data",
          "data": {
            "image/png": "[encoded data removed]",
            "text/plain": [
              "<Figure size 720x936 with 1 Axes>"
            ]
          },
          "metadata": {
            "tags": [],
            "needs_background": "light"
          }
        }
      ]
    },
    {
      "cell_type": "markdown",
      "metadata": {
        "id": "7TjuVh8D9JMp"
      },
      "source": [
        "**According to the bar graph, the graph shows a clear visualization of the Top 50 Country wise Confirmed cases from to given data. United States, India, Brazil are the top 3 highest number of covid-19 cases whereas, Belarus, Dominican Republic and Jordan has least number of covid-19 cases reported.**"
      ]
    },
    {
      "cell_type": "code",
      "metadata": {
        "colab": {
          "base_uri": "https://localhost:8080/",
          "height": 501
        },
        "id": "-Ob7xPJTnj3e",
        "outputId": "2f421167-be04-4383-b2b0-80ee382fcb11"
      },
      "source": [
        "#heat maps to generate correlation matrix of the confirmed cases for the covid-19\r\n",
        "fig, ax = plt.subplots(figsize=(12, 8))\r\n",
        "corr = confirmed_cases_melt_df.corr()\r\n",
        "sns.heatmap(corr, linewidths=.5, cbar_kws={\"shrink\": .5},annot=True)"
      ],
      "execution_count": 470,
      "outputs": [
        {
          "output_type": "execute_result",
          "data": {
            "text/plain": [
              "<matplotlib.axes._subplots.AxesSubplot at 0x7f33a4b41590>"
            ]
          },
          "metadata": {
            "tags": []
          },
          "execution_count": 470
        },
        {
          "output_type": "display_data",
          "data": {
            "image/png": "[encoded data removed]",
            "text/plain": [
              "<Figure size 864x576 with 2 Axes>"
            ]
          },
          "metadata": {
            "tags": [],
            "needs_background": "light"
          }
        }
      ]
    },
    {
      "cell_type": "markdown",
      "metadata": {
        "id": "hwUs_YwE79Ug"
      },
      "source": [
        "**According the coorelation matrix, there is a dependence of the variables from the dataset. According to the dataset, there is a dependence of Latitude and Country/Region variables which are to the important factors to be considered to predcit the number of covid-19 cases.**"
      ]
    },
    {
      "cell_type": "code",
      "metadata": {
        "colab": {
          "base_uri": "https://localhost:8080/"
        },
        "id": "jd1xBSTPtULH",
        "outputId": "330d0082-3a1a-4d14-cc0f-bf909e735669"
      },
      "source": [
        "\n",
        "#typecasting the categorical features to a category dtype\n",
        "confirmed_cases_melt_df['Province_State'] = confirmed_cases_melt_df['Province_State'].astype('category').cat.codes\n",
        "confirmed_cases_melt_df['Country_Region'] = confirmed_cases_melt_df['Country_Region'].astype('category').cat.codes\n",
        "\n",
        "print(confirmed_cases_melt_df.dtypes)"
      ],
      "execution_count": 462,
      "outputs": [
        {
          "output_type": "stream",
          "text": [
            "Province_State        int8\n",
            "Country_Region       int16\n",
            "Lat                float64\n",
            "Long               float64\n",
            "Date                object\n",
            "Confirmed_cases      int64\n",
            "dtype: object\n"
          ],
          "name": "stdout"
        }
      ]
    },
    {
      "cell_type": "markdown",
      "metadata": {
        "id": "RKPzJXHEb8ho"
      },
      "source": [
        "##Prediction of Number of Covid-19 cases from March 2021 to December 20201"
      ]
    },
    {
      "cell_type": "code",
      "metadata": {
        "colab": {
          "base_uri": "https://localhost:8080/",
          "height": 195
        },
        "id": "wl6okMGQdaR1",
        "outputId": "b6080f22-ed0e-438d-e6fa-f3bde88fbbda"
      },
      "source": [
        "confirmed_cases_melt_df.head()\r\n"
      ],
      "execution_count": 463,
      "outputs": [
        {
          "output_type": "execute_result",
          "data": {
            "text/html": [
              "<div>\n",
              "<style scoped>\n",
              "    .dataframe tbody tr th:only-of-type {\n",
              "        vertical-align: middle;\n",
              "    }\n",
              "\n",
              "    .dataframe tbody tr th {\n",
              "        vertical-align: top;\n",
              "    }\n",
              "\n",
              "    .dataframe thead th {\n",
              "        text-align: right;\n",
              "    }\n",
              "</style>\n",
              "<table border=\"1\" class=\"dataframe\">\n",
              "  <thead>\n",
              "    <tr style=\"text-align: right;\">\n",
              "      <th></th>\n",
              "      <th>Province_State</th>\n",
              "      <th>Country_Region</th>\n",
              "      <th>Lat</th>\n",
              "      <th>Long</th>\n",
              "      <th>Date</th>\n",
              "      <th>Confirmed_cases</th>\n",
              "    </tr>\n",
              "  </thead>\n",
              "  <tbody>\n",
              "    <tr>\n",
              "      <th>0</th>\n",
              "      <td>-1</td>\n",
              "      <td>0</td>\n",
              "      <td>33.93911</td>\n",
              "      <td>67.709953</td>\n",
              "      <td>1/22/20</td>\n",
              "      <td>0</td>\n",
              "    </tr>\n",
              "    <tr>\n",
              "      <th>1</th>\n",
              "      <td>-1</td>\n",
              "      <td>1</td>\n",
              "      <td>41.15330</td>\n",
              "      <td>20.168300</td>\n",
              "      <td>1/22/20</td>\n",
              "      <td>0</td>\n",
              "    </tr>\n",
              "    <tr>\n",
              "      <th>2</th>\n",
              "      <td>-1</td>\n",
              "      <td>2</td>\n",
              "      <td>28.03390</td>\n",
              "      <td>1.659600</td>\n",
              "      <td>1/22/20</td>\n",
              "      <td>0</td>\n",
              "    </tr>\n",
              "    <tr>\n",
              "      <th>3</th>\n",
              "      <td>-1</td>\n",
              "      <td>3</td>\n",
              "      <td>42.50630</td>\n",
              "      <td>1.521800</td>\n",
              "      <td>1/22/20</td>\n",
              "      <td>0</td>\n",
              "    </tr>\n",
              "    <tr>\n",
              "      <th>4</th>\n",
              "      <td>-1</td>\n",
              "      <td>4</td>\n",
              "      <td>-11.20270</td>\n",
              "      <td>17.873900</td>\n",
              "      <td>1/22/20</td>\n",
              "      <td>0</td>\n",
              "    </tr>\n",
              "  </tbody>\n",
              "</table>\n",
              "</div>"
            ],
            "text/plain": [
              "   Province_State  Country_Region  ...     Date  Confirmed_cases\n",
              "0              -1               0  ...  1/22/20                0\n",
              "1              -1               1  ...  1/22/20                0\n",
              "2              -1               2  ...  1/22/20                0\n",
              "3              -1               3  ...  1/22/20                0\n",
              "4              -1               4  ...  1/22/20                0\n",
              "\n",
              "[5 rows x 6 columns]"
            ]
          },
          "metadata": {
            "tags": []
          },
          "execution_count": 463
        }
      ]
    },
    {
      "cell_type": "code",
      "metadata": {
        "id": "vHunbnTGpqg0"
      },
      "source": [
        "confirmed_cases_melt_df.columns = ['Province_State','Country_Region','Lat','Long','ds','y']\r\n",
        "#confirmed['ds'] = confirmed['ds'].dt.date\r\n",
        "confirmed_cases_melt_df['ds'] = pd.to_datetime(confirmed_cases_melt_df['ds'])"
      ],
      "execution_count": 464,
      "outputs": []
    },
    {
      "cell_type": "code",
      "metadata": {
        "colab": {
          "base_uri": "https://localhost:8080/",
          "height": 195
        },
        "id": "kpSdxt_iquWY",
        "outputId": "85b6d38a-6a92-4855-9194-6aa502404ce0"
      },
      "source": [
        "confirmed_cases_melt_df.head()"
      ],
      "execution_count": 465,
      "outputs": [
        {
          "output_type": "execute_result",
          "data": {
            "text/html": [
              "<div>\n",
              "<style scoped>\n",
              "    .dataframe tbody tr th:only-of-type {\n",
              "        vertical-align: middle;\n",
              "    }\n",
              "\n",
              "    .dataframe tbody tr th {\n",
              "        vertical-align: top;\n",
              "    }\n",
              "\n",
              "    .dataframe thead th {\n",
              "        text-align: right;\n",
              "    }\n",
              "</style>\n",
              "<table border=\"1\" class=\"dataframe\">\n",
              "  <thead>\n",
              "    <tr style=\"text-align: right;\">\n",
              "      <th></th>\n",
              "      <th>Province_State</th>\n",
              "      <th>Country_Region</th>\n",
              "      <th>Lat</th>\n",
              "      <th>Long</th>\n",
              "      <th>ds</th>\n",
              "      <th>y</th>\n",
              "    </tr>\n",
              "  </thead>\n",
              "  <tbody>\n",
              "    <tr>\n",
              "      <th>0</th>\n",
              "      <td>-1</td>\n",
              "      <td>0</td>\n",
              "      <td>33.93911</td>\n",
              "      <td>67.709953</td>\n",
              "      <td>2020-01-22</td>\n",
              "      <td>0</td>\n",
              "    </tr>\n",
              "    <tr>\n",
              "      <th>1</th>\n",
              "      <td>-1</td>\n",
              "      <td>1</td>\n",
              "      <td>41.15330</td>\n",
              "      <td>20.168300</td>\n",
              "      <td>2020-01-22</td>\n",
              "      <td>0</td>\n",
              "    </tr>\n",
              "    <tr>\n",
              "      <th>2</th>\n",
              "      <td>-1</td>\n",
              "      <td>2</td>\n",
              "      <td>28.03390</td>\n",
              "      <td>1.659600</td>\n",
              "      <td>2020-01-22</td>\n",
              "      <td>0</td>\n",
              "    </tr>\n",
              "    <tr>\n",
              "      <th>3</th>\n",
              "      <td>-1</td>\n",
              "      <td>3</td>\n",
              "      <td>42.50630</td>\n",
              "      <td>1.521800</td>\n",
              "      <td>2020-01-22</td>\n",
              "      <td>0</td>\n",
              "    </tr>\n",
              "    <tr>\n",
              "      <th>4</th>\n",
              "      <td>-1</td>\n",
              "      <td>4</td>\n",
              "      <td>-11.20270</td>\n",
              "      <td>17.873900</td>\n",
              "      <td>2020-01-22</td>\n",
              "      <td>0</td>\n",
              "    </tr>\n",
              "  </tbody>\n",
              "</table>\n",
              "</div>"
            ],
            "text/plain": [
              "   Province_State  Country_Region       Lat       Long         ds  y\n",
              "0              -1               0  33.93911  67.709953 2020-01-22  0\n",
              "1              -1               1  41.15330  20.168300 2020-01-22  0\n",
              "2              -1               2  28.03390   1.659600 2020-01-22  0\n",
              "3              -1               3  42.50630   1.521800 2020-01-22  0\n",
              "4              -1               4 -11.20270  17.873900 2020-01-22  0"
            ]
          },
          "metadata": {
            "tags": []
          },
          "execution_count": 465
        }
      ]
    },
    {
      "cell_type": "markdown",
      "metadata": {
        "id": "3jLMJ5b0daUD"
      },
      "source": [
        "##Forecasting Number of Covid-19 Cases"
      ]
    },
    {
      "cell_type": "code",
      "metadata": {
        "colab": {
          "base_uri": "https://localhost:8080/"
        },
        "id": "OZU-o_nNHWAW",
        "outputId": "43f5ef70-d429-4f27-c97f-4b57405a09bf"
      },
      "source": [
        "days_to_forecast = 1 # changable\r\n",
        "first_forecasted_date = sorted(list(set(confirmed_cases_melt_df['ds'].values)))[-days_to_forecast]\r\n",
        "\r\n",
        "print('The first date to perform forecasts for is: ' + str(first_forecasted_date))"
      ],
      "execution_count": 466,
      "outputs": [
        {
          "output_type": "stream",
          "text": [
            "The first date to perform forecasts for is: 2021-02-17T00:00:00.000000000\n"
          ],
          "name": "stdout"
        }
      ]
    },
    {
      "cell_type": "code",
      "metadata": {
        "colab": {
          "base_uri": "https://localhost:8080/",
          "height": 195
        },
        "id": "L26psqmkdw4B",
        "outputId": "7994dddd-523d-426d-8569-7151978c09ff"
      },
      "source": [
        "from fbprophet import Prophet\r\n",
        "\r\n",
        "m = Prophet(daily_seasonality=False, weekly_seasonality=False, yearly_seasonality=False)\r\n",
        "#m.add_seasonality(name='monthly', period=30.5, fourier_order=5)\r\n",
        "m.fit(confirmed_cases_melt_df)\r\n",
        "future = m.make_future_dataframe(periods=5, freq = 'M')\r\n",
        "future_confirmed = future.copy() # for non-baseline predictions later on\r\n",
        "future.tail()\r\n"
      ],
      "execution_count": 476,
      "outputs": [
        {
          "output_type": "execute_result",
          "data": {
            "text/html": [
              "<div>\n",
              "<style scoped>\n",
              "    .dataframe tbody tr th:only-of-type {\n",
              "        vertical-align: middle;\n",
              "    }\n",
              "\n",
              "    .dataframe tbody tr th {\n",
              "        vertical-align: top;\n",
              "    }\n",
              "\n",
              "    .dataframe thead th {\n",
              "        text-align: right;\n",
              "    }\n",
              "</style>\n",
              "<table border=\"1\" class=\"dataframe\">\n",
              "  <thead>\n",
              "    <tr style=\"text-align: right;\">\n",
              "      <th></th>\n",
              "      <th>ds</th>\n",
              "    </tr>\n",
              "  </thead>\n",
              "  <tbody>\n",
              "    <tr>\n",
              "      <th>393</th>\n",
              "      <td>2021-02-28</td>\n",
              "    </tr>\n",
              "    <tr>\n",
              "      <th>394</th>\n",
              "      <td>2021-03-31</td>\n",
              "    </tr>\n",
              "    <tr>\n",
              "      <th>395</th>\n",
              "      <td>2021-04-30</td>\n",
              "    </tr>\n",
              "    <tr>\n",
              "      <th>396</th>\n",
              "      <td>2021-05-31</td>\n",
              "    </tr>\n",
              "    <tr>\n",
              "      <th>397</th>\n",
              "      <td>2021-06-30</td>\n",
              "    </tr>\n",
              "  </tbody>\n",
              "</table>\n",
              "</div>"
            ],
            "text/plain": [
              "            ds\n",
              "393 2021-02-28\n",
              "394 2021-03-31\n",
              "395 2021-04-30\n",
              "396 2021-05-31\n",
              "397 2021-06-30"
            ]
          },
          "metadata": {
            "tags": []
          },
          "execution_count": 476
        }
      ]
    },
    {
      "cell_type": "code",
      "metadata": {
        "colab": {
          "base_uri": "https://localhost:8080/",
          "height": 195
        },
        "id": "iwngpQl83KXQ",
        "outputId": "cf7ec323-4730-4eb7-9390-601e0747b292"
      },
      "source": [
        "forecast = m.predict(future)\r\n",
        "forecast[['ds', 'yhat', 'yhat_lower', 'yhat_upper']].tail()"
      ],
      "execution_count": 472,
      "outputs": [
        {
          "output_type": "execute_result",
          "data": {
            "text/html": [
              "<div>\n",
              "<style scoped>\n",
              "    .dataframe tbody tr th:only-of-type {\n",
              "        vertical-align: middle;\n",
              "    }\n",
              "\n",
              "    .dataframe tbody tr th {\n",
              "        vertical-align: top;\n",
              "    }\n",
              "\n",
              "    .dataframe thead th {\n",
              "        text-align: right;\n",
              "    }\n",
              "</style>\n",
              "<table border=\"1\" class=\"dataframe\">\n",
              "  <thead>\n",
              "    <tr style=\"text-align: right;\">\n",
              "      <th></th>\n",
              "      <th>ds</th>\n",
              "      <th>yhat</th>\n",
              "      <th>yhat_lower</th>\n",
              "      <th>yhat_upper</th>\n",
              "    </tr>\n",
              "  </thead>\n",
              "  <tbody>\n",
              "    <tr>\n",
              "      <th>393</th>\n",
              "      <td>2021-02-28</td>\n",
              "      <td>439585.453928</td>\n",
              "      <td>-557560.530381</td>\n",
              "      <td>1.567822e+06</td>\n",
              "    </tr>\n",
              "    <tr>\n",
              "      <th>394</th>\n",
              "      <td>2021-03-31</td>\n",
              "      <td>510772.113537</td>\n",
              "      <td>-539796.933925</td>\n",
              "      <td>1.602321e+06</td>\n",
              "    </tr>\n",
              "    <tr>\n",
              "      <th>395</th>\n",
              "      <td>2021-04-30</td>\n",
              "      <td>579662.429289</td>\n",
              "      <td>-465614.676392</td>\n",
              "      <td>1.598058e+06</td>\n",
              "    </tr>\n",
              "    <tr>\n",
              "      <th>396</th>\n",
              "      <td>2021-05-31</td>\n",
              "      <td>650849.088898</td>\n",
              "      <td>-433578.026233</td>\n",
              "      <td>1.740928e+06</td>\n",
              "    </tr>\n",
              "    <tr>\n",
              "      <th>397</th>\n",
              "      <td>2021-06-30</td>\n",
              "      <td>719739.404649</td>\n",
              "      <td>-277460.831052</td>\n",
              "      <td>1.729807e+06</td>\n",
              "    </tr>\n",
              "  </tbody>\n",
              "</table>\n",
              "</div>"
            ],
            "text/plain": [
              "            ds           yhat     yhat_lower    yhat_upper\n",
              "393 2021-02-28  439585.453928 -557560.530381  1.567822e+06\n",
              "394 2021-03-31  510772.113537 -539796.933925  1.602321e+06\n",
              "395 2021-04-30  579662.429289 -465614.676392  1.598058e+06\n",
              "396 2021-05-31  650849.088898 -433578.026233  1.740928e+06\n",
              "397 2021-06-30  719739.404649 -277460.831052  1.729807e+06"
            ]
          },
          "metadata": {
            "tags": []
          },
          "execution_count": 472
        }
      ]
    },
    {
      "cell_type": "code",
      "metadata": {
        "colab": {
          "base_uri": "https://localhost:8080/",
          "height": 225
        },
        "id": "0RzUk0TJu5nU",
        "outputId": "fd7d790a-1505-4995-ca76-d6c0d90f6e2a"
      },
      "source": [
        "#plotting the prediction graph\r\n",
        "forecast_components = m.plot_components(forecast)"
      ],
      "execution_count": 473,
      "outputs": [
        {
          "output_type": "display_data",
          "data": {
            "image/png": "[encoded data removed]",
            "text/plain": [
              "<Figure size 648x216 with 1 Axes>"
            ]
          },
          "metadata": {
            "tags": []
          }
        }
      ]
    },
    {
      "cell_type": "markdown",
      "metadata": {
        "id": "przx2rPp6aPz"
      },
      "source": [
        "**From the forecast component plots, it is clear that, there is an upward trend from May 2020 which is expontentially increasing, especially in the month of July. Hence, according to the prediction of the covid-19 dataset, there are chances of increasing number of cases in future.**\r\n",
        "\r\n",
        "\r\n"
      ]
    }
  ]
}
