{
  "nbformat": 4,
  "nbformat_minor": 0,
  "metadata": {
    "kernelspec": {
      "display_name": "Python 3",
      "language": "python",
      "name": "python3"
    },
    "language_info": {
      "codemirror_mode": {
        "name": "ipython",
        "version": 3
      },
      "file_extension": ".py",
      "mimetype": "text/x-python",
      "name": "python",
      "nbconvert_exporter": "python",
      "pygments_lexer": "ipython3",
      "version": "3.7.6"
    },
    "colab": {
      "name": "Stomble_Task-predict the number of COVID-19 cases in future.ipynb",
      "provenance": [],
      "collapsed_sections": [],
      "toc_visible": true
    }
  },
  "cells": [
    {
      "cell_type": "markdown",
      "metadata": {
        "id": "KUZoxCCDM0LU"
      },
      "source": [
        "#Prediction of Covid_19 cases"
      ]
    },
    {
      "cell_type": "code",
      "metadata": {
        "colab": {
          "base_uri": "https://localhost:8080/"
        },
        "id": "IJD0d0sDuEKz",
        "outputId": "afd3f867-8468-4b3e-8693-6cc7563f21ec"
      },
      "source": [
        "from google.colab import drive\r\n",
        "drive.mount('/content/drive')"
      ],
      "execution_count": 1,
      "outputs": [
        {
          "output_type": "stream",
          "text": [
            "Mounted at /content/drive\n"
          ],
          "name": "stdout"
        }
      ]
    },
    {
      "cell_type": "code",
      "metadata": {
        "id": "VxLcqxs1tUKX"
      },
      "source": [
        "#Importing Packages\n",
        "import pandas as pd\n",
        "import numpy as np\n",
        "import pandas as pd\n",
        "import matplotlib\n",
        "import matplotlib.pyplot as pp\n",
        "import matplotlib.pyplot as plt\n",
        "import seaborn as sns\n",
        "import sklearn \n",
        "\n",
        "%matplotlib inline"
      ],
      "execution_count": 2,
      "outputs": []
    },
    {
      "cell_type": "code",
      "metadata": {
        "colab": {
          "base_uri": "https://localhost:8080/",
          "height": 244
        },
        "id": "r8BHvWEdtUKy",
        "outputId": "edc657ce-c93f-49c3-f32e-17b2b162c690"
      },
      "source": [
        "import numpy as np # linear algebra\n",
        "import pandas as pd # data processing, CSV file I/O (e.g. pd.read_csv)\n",
        "\n",
        "\n",
        "\n",
        "#read the data and store data titled time_series_covid19_confirmed_global.csv\n",
        "covid_19_trend = ('/content/drive/My Drive/Stomble_Task/time_series_covid19_confirmed_global.csv')\n",
        "\n",
        "#read the data and store data in DataFrame titled time_series_covid19_confirmed_global.csv\n",
        "covid_19_df = pd.read_csv(covid_19_trend) \n",
        "covid_19_df.head()"
      ],
      "execution_count": 3,
      "outputs": [
        {
          "output_type": "execute_result",
          "data": {
            "text/html": [
              "<div>\n",
              "<style scoped>\n",
              "    .dataframe tbody tr th:only-of-type {\n",
              "        vertical-align: middle;\n",
              "    }\n",
              "\n",
              "    .dataframe tbody tr th {\n",
              "        vertical-align: top;\n",
              "    }\n",
              "\n",
              "    .dataframe thead th {\n",
              "        text-align: right;\n",
              "    }\n",
              "</style>\n",
              "<table border=\"1\" class=\"dataframe\">\n",
              "  <thead>\n",
              "    <tr style=\"text-align: right;\">\n",
              "      <th></th>\n",
              "      <th>Province/State</th>\n",
              "      <th>Country/Region</th>\n",
              "      <th>Lat</th>\n",
              "      <th>Long</th>\n",
              "      <th>1/22/20</th>\n",
              "      <th>1/23/20</th>\n",
              "      <th>1/24/20</th>\n",
              "      <th>1/25/20</th>\n",
              "      <th>1/26/20</th>\n",
              "      <th>1/27/20</th>\n",
              "      <th>1/28/20</th>\n",
              "      <th>1/29/20</th>\n",
              "      <th>1/30/20</th>\n",
              "      <th>1/31/20</th>\n",
              "      <th>2/01/2020</th>\n",
              "      <th>2/02/2020</th>\n",
              "      <th>2/03/2020</th>\n",
              "      <th>2/04/2020</th>\n",
              "      <th>2/05/2020</th>\n",
              "      <th>2/06/2020</th>\n",
              "      <th>2/07/2020</th>\n",
              "      <th>2/08/2020</th>\n",
              "      <th>2/09/2020</th>\n",
              "      <th>2/10/2020</th>\n",
              "      <th>2/11/2020</th>\n",
              "      <th>2/12/2020</th>\n",
              "      <th>2/13/20</th>\n",
              "      <th>2/14/20</th>\n",
              "      <th>2/15/20</th>\n",
              "      <th>2/16/20</th>\n",
              "      <th>2/17/20</th>\n",
              "      <th>2/18/20</th>\n",
              "      <th>2/19/20</th>\n",
              "      <th>2/20/20</th>\n",
              "      <th>2/21/20</th>\n",
              "      <th>2/22/20</th>\n",
              "      <th>2/23/20</th>\n",
              "      <th>2/24/20</th>\n",
              "      <th>2/25/20</th>\n",
              "      <th>2/26/20</th>\n",
              "      <th>...</th>\n",
              "      <th>1/09/2021</th>\n",
              "      <th>1/10/2021</th>\n",
              "      <th>1/11/2021</th>\n",
              "      <th>1/12/2021</th>\n",
              "      <th>1/13/21</th>\n",
              "      <th>1/14/21</th>\n",
              "      <th>1/15/21</th>\n",
              "      <th>1/16/21</th>\n",
              "      <th>1/17/21</th>\n",
              "      <th>1/18/21</th>\n",
              "      <th>1/19/21</th>\n",
              "      <th>1/20/21</th>\n",
              "      <th>1/21/21</th>\n",
              "      <th>1/22/21</th>\n",
              "      <th>1/23/21</th>\n",
              "      <th>1/24/21</th>\n",
              "      <th>1/25/21</th>\n",
              "      <th>1/26/21</th>\n",
              "      <th>1/27/21</th>\n",
              "      <th>1/28/21</th>\n",
              "      <th>1/29/21</th>\n",
              "      <th>1/30/21</th>\n",
              "      <th>1/31/21</th>\n",
              "      <th>2/01/2021</th>\n",
              "      <th>2/02/2021</th>\n",
              "      <th>2/03/2021</th>\n",
              "      <th>2/04/2021</th>\n",
              "      <th>2/05/2021</th>\n",
              "      <th>2/06/2021</th>\n",
              "      <th>2/07/2021</th>\n",
              "      <th>2/08/2021</th>\n",
              "      <th>2/09/2021</th>\n",
              "      <th>2/10/2021</th>\n",
              "      <th>2/11/2021</th>\n",
              "      <th>2/12/2021</th>\n",
              "      <th>2/13/21</th>\n",
              "      <th>2/14/21</th>\n",
              "      <th>2/15/21</th>\n",
              "      <th>2/16/21</th>\n",
              "      <th>2/17/21</th>\n",
              "    </tr>\n",
              "  </thead>\n",
              "  <tbody>\n",
              "    <tr>\n",
              "      <th>0</th>\n",
              "      <td>NaN</td>\n",
              "      <td>Afghanistan</td>\n",
              "      <td>33.93911</td>\n",
              "      <td>67.709953</td>\n",
              "      <td>0</td>\n",
              "      <td>0</td>\n",
              "      <td>0</td>\n",
              "      <td>0</td>\n",
              "      <td>0</td>\n",
              "      <td>0</td>\n",
              "      <td>0</td>\n",
              "      <td>0</td>\n",
              "      <td>0</td>\n",
              "      <td>0</td>\n",
              "      <td>0</td>\n",
              "      <td>0</td>\n",
              "      <td>0</td>\n",
              "      <td>0</td>\n",
              "      <td>0</td>\n",
              "      <td>0</td>\n",
              "      <td>0</td>\n",
              "      <td>0</td>\n",
              "      <td>0</td>\n",
              "      <td>0</td>\n",
              "      <td>0</td>\n",
              "      <td>0</td>\n",
              "      <td>0</td>\n",
              "      <td>0</td>\n",
              "      <td>0</td>\n",
              "      <td>0</td>\n",
              "      <td>0</td>\n",
              "      <td>0</td>\n",
              "      <td>0</td>\n",
              "      <td>0</td>\n",
              "      <td>0</td>\n",
              "      <td>0</td>\n",
              "      <td>0</td>\n",
              "      <td>1</td>\n",
              "      <td>1</td>\n",
              "      <td>1</td>\n",
              "      <td>...</td>\n",
              "      <td>53400</td>\n",
              "      <td>53489</td>\n",
              "      <td>53538</td>\n",
              "      <td>53584</td>\n",
              "      <td>53584</td>\n",
              "      <td>53775</td>\n",
              "      <td>53831</td>\n",
              "      <td>53938</td>\n",
              "      <td>53984</td>\n",
              "      <td>54062</td>\n",
              "      <td>54141</td>\n",
              "      <td>54278</td>\n",
              "      <td>54403</td>\n",
              "      <td>54483</td>\n",
              "      <td>54559</td>\n",
              "      <td>54595</td>\n",
              "      <td>54672</td>\n",
              "      <td>54750</td>\n",
              "      <td>54854</td>\n",
              "      <td>54891</td>\n",
              "      <td>54939</td>\n",
              "      <td>55008</td>\n",
              "      <td>55023</td>\n",
              "      <td>55059</td>\n",
              "      <td>55121</td>\n",
              "      <td>55174</td>\n",
              "      <td>55231</td>\n",
              "      <td>55265</td>\n",
              "      <td>55330</td>\n",
              "      <td>55335</td>\n",
              "      <td>55359</td>\n",
              "      <td>55384</td>\n",
              "      <td>55402</td>\n",
              "      <td>55420</td>\n",
              "      <td>55445</td>\n",
              "      <td>55473</td>\n",
              "      <td>55492</td>\n",
              "      <td>55514</td>\n",
              "      <td>55518</td>\n",
              "      <td>55540</td>\n",
              "    </tr>\n",
              "    <tr>\n",
              "      <th>1</th>\n",
              "      <td>NaN</td>\n",
              "      <td>Albania</td>\n",
              "      <td>41.15330</td>\n",
              "      <td>20.168300</td>\n",
              "      <td>0</td>\n",
              "      <td>0</td>\n",
              "      <td>0</td>\n",
              "      <td>0</td>\n",
              "      <td>0</td>\n",
              "      <td>0</td>\n",
              "      <td>0</td>\n",
              "      <td>0</td>\n",
              "      <td>0</td>\n",
              "      <td>0</td>\n",
              "      <td>0</td>\n",
              "      <td>0</td>\n",
              "      <td>0</td>\n",
              "      <td>0</td>\n",
              "      <td>0</td>\n",
              "      <td>0</td>\n",
              "      <td>0</td>\n",
              "      <td>0</td>\n",
              "      <td>0</td>\n",
              "      <td>0</td>\n",
              "      <td>0</td>\n",
              "      <td>0</td>\n",
              "      <td>0</td>\n",
              "      <td>0</td>\n",
              "      <td>0</td>\n",
              "      <td>0</td>\n",
              "      <td>0</td>\n",
              "      <td>0</td>\n",
              "      <td>0</td>\n",
              "      <td>0</td>\n",
              "      <td>0</td>\n",
              "      <td>0</td>\n",
              "      <td>0</td>\n",
              "      <td>0</td>\n",
              "      <td>0</td>\n",
              "      <td>0</td>\n",
              "      <td>...</td>\n",
              "      <td>63033</td>\n",
              "      <td>63595</td>\n",
              "      <td>63971</td>\n",
              "      <td>64627</td>\n",
              "      <td>65334</td>\n",
              "      <td>65994</td>\n",
              "      <td>66635</td>\n",
              "      <td>67216</td>\n",
              "      <td>67690</td>\n",
              "      <td>67982</td>\n",
              "      <td>68568</td>\n",
              "      <td>69238</td>\n",
              "      <td>69916</td>\n",
              "      <td>70655</td>\n",
              "      <td>71441</td>\n",
              "      <td>72274</td>\n",
              "      <td>72812</td>\n",
              "      <td>73691</td>\n",
              "      <td>74567</td>\n",
              "      <td>75454</td>\n",
              "      <td>76350</td>\n",
              "      <td>77251</td>\n",
              "      <td>78127</td>\n",
              "      <td>78992</td>\n",
              "      <td>79934</td>\n",
              "      <td>80941</td>\n",
              "      <td>81993</td>\n",
              "      <td>83082</td>\n",
              "      <td>84212</td>\n",
              "      <td>85336</td>\n",
              "      <td>86289</td>\n",
              "      <td>87528</td>\n",
              "      <td>88671</td>\n",
              "      <td>89776</td>\n",
              "      <td>90835</td>\n",
              "      <td>91987</td>\n",
              "      <td>93075</td>\n",
              "      <td>93850</td>\n",
              "      <td>94651</td>\n",
              "      <td>95726</td>\n",
              "    </tr>\n",
              "    <tr>\n",
              "      <th>2</th>\n",
              "      <td>NaN</td>\n",
              "      <td>Algeria</td>\n",
              "      <td>28.03390</td>\n",
              "      <td>1.659600</td>\n",
              "      <td>0</td>\n",
              "      <td>0</td>\n",
              "      <td>0</td>\n",
              "      <td>0</td>\n",
              "      <td>0</td>\n",
              "      <td>0</td>\n",
              "      <td>0</td>\n",
              "      <td>0</td>\n",
              "      <td>0</td>\n",
              "      <td>0</td>\n",
              "      <td>0</td>\n",
              "      <td>0</td>\n",
              "      <td>0</td>\n",
              "      <td>0</td>\n",
              "      <td>0</td>\n",
              "      <td>0</td>\n",
              "      <td>0</td>\n",
              "      <td>0</td>\n",
              "      <td>0</td>\n",
              "      <td>0</td>\n",
              "      <td>0</td>\n",
              "      <td>0</td>\n",
              "      <td>0</td>\n",
              "      <td>0</td>\n",
              "      <td>0</td>\n",
              "      <td>0</td>\n",
              "      <td>0</td>\n",
              "      <td>0</td>\n",
              "      <td>0</td>\n",
              "      <td>0</td>\n",
              "      <td>0</td>\n",
              "      <td>0</td>\n",
              "      <td>0</td>\n",
              "      <td>0</td>\n",
              "      <td>1</td>\n",
              "      <td>1</td>\n",
              "      <td>...</td>\n",
              "      <td>101913</td>\n",
              "      <td>102144</td>\n",
              "      <td>102369</td>\n",
              "      <td>102641</td>\n",
              "      <td>102860</td>\n",
              "      <td>103127</td>\n",
              "      <td>103381</td>\n",
              "      <td>103611</td>\n",
              "      <td>103833</td>\n",
              "      <td>104092</td>\n",
              "      <td>104341</td>\n",
              "      <td>104606</td>\n",
              "      <td>104852</td>\n",
              "      <td>105124</td>\n",
              "      <td>105369</td>\n",
              "      <td>105596</td>\n",
              "      <td>105854</td>\n",
              "      <td>106097</td>\n",
              "      <td>106359</td>\n",
              "      <td>106610</td>\n",
              "      <td>106887</td>\n",
              "      <td>107122</td>\n",
              "      <td>107339</td>\n",
              "      <td>107578</td>\n",
              "      <td>107841</td>\n",
              "      <td>108116</td>\n",
              "      <td>108381</td>\n",
              "      <td>108629</td>\n",
              "      <td>108629</td>\n",
              "      <td>109088</td>\n",
              "      <td>109313</td>\n",
              "      <td>109559</td>\n",
              "      <td>109782</td>\n",
              "      <td>110049</td>\n",
              "      <td>110303</td>\n",
              "      <td>110513</td>\n",
              "      <td>110711</td>\n",
              "      <td>110894</td>\n",
              "      <td>111069</td>\n",
              "      <td>111247</td>\n",
              "    </tr>\n",
              "    <tr>\n",
              "      <th>3</th>\n",
              "      <td>NaN</td>\n",
              "      <td>Andorra</td>\n",
              "      <td>42.50630</td>\n",
              "      <td>1.521800</td>\n",
              "      <td>0</td>\n",
              "      <td>0</td>\n",
              "      <td>0</td>\n",
              "      <td>0</td>\n",
              "      <td>0</td>\n",
              "      <td>0</td>\n",
              "      <td>0</td>\n",
              "      <td>0</td>\n",
              "      <td>0</td>\n",
              "      <td>0</td>\n",
              "      <td>0</td>\n",
              "      <td>0</td>\n",
              "      <td>0</td>\n",
              "      <td>0</td>\n",
              "      <td>0</td>\n",
              "      <td>0</td>\n",
              "      <td>0</td>\n",
              "      <td>0</td>\n",
              "      <td>0</td>\n",
              "      <td>0</td>\n",
              "      <td>0</td>\n",
              "      <td>0</td>\n",
              "      <td>0</td>\n",
              "      <td>0</td>\n",
              "      <td>0</td>\n",
              "      <td>0</td>\n",
              "      <td>0</td>\n",
              "      <td>0</td>\n",
              "      <td>0</td>\n",
              "      <td>0</td>\n",
              "      <td>0</td>\n",
              "      <td>0</td>\n",
              "      <td>0</td>\n",
              "      <td>0</td>\n",
              "      <td>0</td>\n",
              "      <td>0</td>\n",
              "      <td>...</td>\n",
              "      <td>8586</td>\n",
              "      <td>8586</td>\n",
              "      <td>8586</td>\n",
              "      <td>8682</td>\n",
              "      <td>8818</td>\n",
              "      <td>8868</td>\n",
              "      <td>8946</td>\n",
              "      <td>9038</td>\n",
              "      <td>9083</td>\n",
              "      <td>9083</td>\n",
              "      <td>9194</td>\n",
              "      <td>9308</td>\n",
              "      <td>9379</td>\n",
              "      <td>9416</td>\n",
              "      <td>9499</td>\n",
              "      <td>9549</td>\n",
              "      <td>9596</td>\n",
              "      <td>9638</td>\n",
              "      <td>9716</td>\n",
              "      <td>9779</td>\n",
              "      <td>9837</td>\n",
              "      <td>9885</td>\n",
              "      <td>9937</td>\n",
              "      <td>9972</td>\n",
              "      <td>10017</td>\n",
              "      <td>10070</td>\n",
              "      <td>10137</td>\n",
              "      <td>10172</td>\n",
              "      <td>10206</td>\n",
              "      <td>10251</td>\n",
              "      <td>10275</td>\n",
              "      <td>10312</td>\n",
              "      <td>10352</td>\n",
              "      <td>10391</td>\n",
              "      <td>10427</td>\n",
              "      <td>10463</td>\n",
              "      <td>10503</td>\n",
              "      <td>10538</td>\n",
              "      <td>10555</td>\n",
              "      <td>10583</td>\n",
              "    </tr>\n",
              "    <tr>\n",
              "      <th>4</th>\n",
              "      <td>NaN</td>\n",
              "      <td>Angola</td>\n",
              "      <td>-11.20270</td>\n",
              "      <td>17.873900</td>\n",
              "      <td>0</td>\n",
              "      <td>0</td>\n",
              "      <td>0</td>\n",
              "      <td>0</td>\n",
              "      <td>0</td>\n",
              "      <td>0</td>\n",
              "      <td>0</td>\n",
              "      <td>0</td>\n",
              "      <td>0</td>\n",
              "      <td>0</td>\n",
              "      <td>0</td>\n",
              "      <td>0</td>\n",
              "      <td>0</td>\n",
              "      <td>0</td>\n",
              "      <td>0</td>\n",
              "      <td>0</td>\n",
              "      <td>0</td>\n",
              "      <td>0</td>\n",
              "      <td>0</td>\n",
              "      <td>0</td>\n",
              "      <td>0</td>\n",
              "      <td>0</td>\n",
              "      <td>0</td>\n",
              "      <td>0</td>\n",
              "      <td>0</td>\n",
              "      <td>0</td>\n",
              "      <td>0</td>\n",
              "      <td>0</td>\n",
              "      <td>0</td>\n",
              "      <td>0</td>\n",
              "      <td>0</td>\n",
              "      <td>0</td>\n",
              "      <td>0</td>\n",
              "      <td>0</td>\n",
              "      <td>0</td>\n",
              "      <td>0</td>\n",
              "      <td>...</td>\n",
              "      <td>18156</td>\n",
              "      <td>18193</td>\n",
              "      <td>18254</td>\n",
              "      <td>18343</td>\n",
              "      <td>18425</td>\n",
              "      <td>18613</td>\n",
              "      <td>18679</td>\n",
              "      <td>18765</td>\n",
              "      <td>18875</td>\n",
              "      <td>18926</td>\n",
              "      <td>19011</td>\n",
              "      <td>19093</td>\n",
              "      <td>19177</td>\n",
              "      <td>19269</td>\n",
              "      <td>19367</td>\n",
              "      <td>19399</td>\n",
              "      <td>19476</td>\n",
              "      <td>19553</td>\n",
              "      <td>19580</td>\n",
              "      <td>19672</td>\n",
              "      <td>19723</td>\n",
              "      <td>19782</td>\n",
              "      <td>19796</td>\n",
              "      <td>19829</td>\n",
              "      <td>19900</td>\n",
              "      <td>19937</td>\n",
              "      <td>19996</td>\n",
              "      <td>20030</td>\n",
              "      <td>20062</td>\n",
              "      <td>20086</td>\n",
              "      <td>20112</td>\n",
              "      <td>20163</td>\n",
              "      <td>20210</td>\n",
              "      <td>20261</td>\n",
              "      <td>20294</td>\n",
              "      <td>20329</td>\n",
              "      <td>20366</td>\n",
              "      <td>20381</td>\n",
              "      <td>20389</td>\n",
              "      <td>20400</td>\n",
              "    </tr>\n",
              "  </tbody>\n",
              "</table>\n",
              "<p>5 rows × 397 columns</p>\n",
              "</div>"
            ],
            "text/plain": [
              "  Province/State Country/Region       Lat  ...  2/15/21  2/16/21  2/17/21\n",
              "0            NaN    Afghanistan  33.93911  ...    55514    55518    55540\n",
              "1            NaN        Albania  41.15330  ...    93850    94651    95726\n",
              "2            NaN        Algeria  28.03390  ...   110894   111069   111247\n",
              "3            NaN        Andorra  42.50630  ...    10538    10555    10583\n",
              "4            NaN         Angola -11.20270  ...    20381    20389    20400\n",
              "\n",
              "[5 rows x 397 columns]"
            ]
          },
          "metadata": {
            "tags": []
          },
          "execution_count": 3
        }
      ]
    },
    {
      "cell_type": "markdown",
      "metadata": {
        "id": "Tn-l8gX9Nf1D"
      },
      "source": [
        "#Data PreProcessing"
      ]
    },
    {
      "cell_type": "markdown",
      "metadata": {
        "id": "1W16CeaG35fi"
      },
      "source": [
        "Number of samples per country in our data"
      ]
    },
    {
      "cell_type": "code",
      "metadata": {
        "colab": {
          "base_uri": "https://localhost:8080/"
        },
        "id": "QEgcUPnN38Zi",
        "outputId": "21f2b4c5-24b3-4c6c-e257-81844bf0f45c"
      },
      "source": [
        "%pip install geopandas"
      ],
      "execution_count": 4,
      "outputs": [
        {
          "output_type": "stream",
          "text": [
            "Collecting geopandas\n",
            "\u001b[?25l  Downloading https://files.pythonhosted.org/packages/2a/9f/e8a440a993e024c0d3d4e5c7d3346367c50c9a1a3d735caf5ee3bde0aab1/geopandas-0.8.2-py2.py3-none-any.whl (962kB)\n",
            "\r\u001b[K     |▍                               | 10kB 16.9MB/s eta 0:00:01\r\u001b[K     |▊                               | 20kB 22.7MB/s eta 0:00:01\r\u001b[K     |█                               | 30kB 26.4MB/s eta 0:00:01\r\u001b[K     |█▍                              | 40kB 20.3MB/s eta 0:00:01\r\u001b[K     |█▊                              | 51kB 15.6MB/s eta 0:00:01\r\u001b[K     |██                              | 61kB 17.6MB/s eta 0:00:01\r\u001b[K     |██▍                             | 71kB 16.0MB/s eta 0:00:01\r\u001b[K     |██▊                             | 81kB 13.9MB/s eta 0:00:01\r\u001b[K     |███                             | 92kB 12.8MB/s eta 0:00:01\r\u001b[K     |███▍                            | 102kB 12.0MB/s eta 0:00:01\r\u001b[K     |███▊                            | 112kB 12.0MB/s eta 0:00:01\r\u001b[K     |████                            | 122kB 12.0MB/s eta 0:00:01\r\u001b[K     |████▍                           | 133kB 12.0MB/s eta 0:00:01\r\u001b[K     |████▊                           | 143kB 12.0MB/s eta 0:00:01\r\u001b[K     |█████                           | 153kB 12.0MB/s eta 0:00:01\r\u001b[K     |█████▌                          | 163kB 12.0MB/s eta 0:00:01\r\u001b[K     |█████▉                          | 174kB 12.0MB/s eta 0:00:01\r\u001b[K     |██████▏                         | 184kB 12.0MB/s eta 0:00:01\r\u001b[K     |██████▌                         | 194kB 12.0MB/s eta 0:00:01\r\u001b[K     |██████▉                         | 204kB 12.0MB/s eta 0:00:01\r\u001b[K     |███████▏                        | 215kB 12.0MB/s eta 0:00:01\r\u001b[K     |███████▌                        | 225kB 12.0MB/s eta 0:00:01\r\u001b[K     |███████▉                        | 235kB 12.0MB/s eta 0:00:01\r\u001b[K     |████████▏                       | 245kB 12.0MB/s eta 0:00:01\r\u001b[K     |████████▌                       | 256kB 12.0MB/s eta 0:00:01\r\u001b[K     |████████▉                       | 266kB 12.0MB/s eta 0:00:01\r\u001b[K     |█████████▏                      | 276kB 12.0MB/s eta 0:00:01\r\u001b[K     |█████████▌                      | 286kB 12.0MB/s eta 0:00:01\r\u001b[K     |█████████▉                      | 296kB 12.0MB/s eta 0:00:01\r\u001b[K     |██████████▏                     | 307kB 12.0MB/s eta 0:00:01\r\u001b[K     |██████████▌                     | 317kB 12.0MB/s eta 0:00:01\r\u001b[K     |███████████                     | 327kB 12.0MB/s eta 0:00:01\r\u001b[K     |███████████▎                    | 337kB 12.0MB/s eta 0:00:01\r\u001b[K     |███████████▋                    | 348kB 12.0MB/s eta 0:00:01\r\u001b[K     |████████████                    | 358kB 12.0MB/s eta 0:00:01\r\u001b[K     |████████████▎                   | 368kB 12.0MB/s eta 0:00:01\r\u001b[K     |████████████▋                   | 378kB 12.0MB/s eta 0:00:01\r\u001b[K     |█████████████                   | 389kB 12.0MB/s eta 0:00:01\r\u001b[K     |█████████████▎                  | 399kB 12.0MB/s eta 0:00:01\r\u001b[K     |█████████████▋                  | 409kB 12.0MB/s eta 0:00:01\r\u001b[K     |██████████████                  | 419kB 12.0MB/s eta 0:00:01\r\u001b[K     |██████████████▎                 | 430kB 12.0MB/s eta 0:00:01\r\u001b[K     |██████████████▋                 | 440kB 12.0MB/s eta 0:00:01\r\u001b[K     |███████████████                 | 450kB 12.0MB/s eta 0:00:01\r\u001b[K     |███████████████▎                | 460kB 12.0MB/s eta 0:00:01\r\u001b[K     |███████████████▋                | 471kB 12.0MB/s eta 0:00:01\r\u001b[K     |████████████████                | 481kB 12.0MB/s eta 0:00:01\r\u001b[K     |████████████████▍               | 491kB 12.0MB/s eta 0:00:01\r\u001b[K     |████████████████▊               | 501kB 12.0MB/s eta 0:00:01\r\u001b[K     |█████████████████               | 512kB 12.0MB/s eta 0:00:01\r\u001b[K     |█████████████████▍              | 522kB 12.0MB/s eta 0:00:01\r\u001b[K     |█████████████████▊              | 532kB 12.0MB/s eta 0:00:01\r\u001b[K     |██████████████████              | 542kB 12.0MB/s eta 0:00:01\r\u001b[K     |██████████████████▍             | 552kB 12.0MB/s eta 0:00:01\r\u001b[K     |██████████████████▊             | 563kB 12.0MB/s eta 0:00:01\r\u001b[K     |███████████████████             | 573kB 12.0MB/s eta 0:00:01\r\u001b[K     |███████████████████▍            | 583kB 12.0MB/s eta 0:00:01\r\u001b[K     |███████████████████▊            | 593kB 12.0MB/s eta 0:00:01\r\u001b[K     |████████████████████            | 604kB 12.0MB/s eta 0:00:01\r\u001b[K     |████████████████████▍           | 614kB 12.0MB/s eta 0:00:01\r\u001b[K     |████████████████████▊           | 624kB 12.0MB/s eta 0:00:01\r\u001b[K     |█████████████████████           | 634kB 12.0MB/s eta 0:00:01\r\u001b[K     |█████████████████████▍          | 645kB 12.0MB/s eta 0:00:01\r\u001b[K     |█████████████████████▉          | 655kB 12.0MB/s eta 0:00:01\r\u001b[K     |██████████████████████▏         | 665kB 12.0MB/s eta 0:00:01\r\u001b[K     |██████████████████████▌         | 675kB 12.0MB/s eta 0:00:01\r\u001b[K     |██████████████████████▉         | 686kB 12.0MB/s eta 0:00:01\r\u001b[K     |███████████████████████▏        | 696kB 12.0MB/s eta 0:00:01\r\u001b[K     |███████████████████████▌        | 706kB 12.0MB/s eta 0:00:01\r\u001b[K     |███████████████████████▉        | 716kB 12.0MB/s eta 0:00:01\r\u001b[K     |████████████████████████▏       | 727kB 12.0MB/s eta 0:00:01\r\u001b[K     |████████████████████████▌       | 737kB 12.0MB/s eta 0:00:01\r\u001b[K     |████████████████████████▉       | 747kB 12.0MB/s eta 0:00:01\r\u001b[K     |█████████████████████████▏      | 757kB 12.0MB/s eta 0:00:01\r\u001b[K     |█████████████████████████▌      | 768kB 12.0MB/s eta 0:00:01\r\u001b[K     |█████████████████████████▉      | 778kB 12.0MB/s eta 0:00:01\r\u001b[K     |██████████████████████████▏     | 788kB 12.0MB/s eta 0:00:01\r\u001b[K     |██████████████████████████▌     | 798kB 12.0MB/s eta 0:00:01\r\u001b[K     |██████████████████████████▉     | 808kB 12.0MB/s eta 0:00:01\r\u001b[K     |███████████████████████████▎    | 819kB 12.0MB/s eta 0:00:01\r\u001b[K     |███████████████████████████▋    | 829kB 12.0MB/s eta 0:00:01\r\u001b[K     |████████████████████████████    | 839kB 12.0MB/s eta 0:00:01\r\u001b[K     |████████████████████████████▎   | 849kB 12.0MB/s eta 0:00:01\r\u001b[K     |████████████████████████████▋   | 860kB 12.0MB/s eta 0:00:01\r\u001b[K     |█████████████████████████████   | 870kB 12.0MB/s eta 0:00:01\r\u001b[K     |█████████████████████████████▎  | 880kB 12.0MB/s eta 0:00:01\r\u001b[K     |█████████████████████████████▋  | 890kB 12.0MB/s eta 0:00:01\r\u001b[K     |██████████████████████████████  | 901kB 12.0MB/s eta 0:00:01\r\u001b[K     |██████████████████████████████▎ | 911kB 12.0MB/s eta 0:00:01\r\u001b[K     |██████████████████████████████▋ | 921kB 12.0MB/s eta 0:00:01\r\u001b[K     |███████████████████████████████ | 931kB 12.0MB/s eta 0:00:01\r\u001b[K     |███████████████████████████████▎| 942kB 12.0MB/s eta 0:00:01\r\u001b[K     |███████████████████████████████▋| 952kB 12.0MB/s eta 0:00:01\r\u001b[K     |████████████████████████████████| 962kB 12.0MB/s eta 0:00:01\r\u001b[K     |████████████████████████████████| 972kB 12.0MB/s \n",
            "\u001b[?25hRequirement already satisfied: pandas>=0.23.0 in /usr/local/lib/python3.6/dist-packages (from geopandas) (1.1.5)\n",
            "Collecting fiona\n",
            "\u001b[?25l  Downloading https://files.pythonhosted.org/packages/37/94/4910fd55246c1d963727b03885ead6ef1cd3748a465f7b0239ab25dfc9a3/Fiona-1.8.18-cp36-cp36m-manylinux1_x86_64.whl (14.8MB)\n",
            "\u001b[K     |████████████████████████████████| 14.8MB 306kB/s \n",
            "\u001b[?25hCollecting pyproj>=2.2.0\n",
            "\u001b[?25l  Downloading https://files.pythonhosted.org/packages/e4/ab/280e80a67cfc109d15428c0ec56391fc03a65857b7727cf4e6e6f99a4204/pyproj-3.0.0.post1-cp36-cp36m-manylinux2010_x86_64.whl (6.4MB)\n",
            "\u001b[K     |████████████████████████████████| 6.5MB 43.4MB/s \n",
            "\u001b[?25hRequirement already satisfied: shapely in /usr/local/lib/python3.6/dist-packages (from geopandas) (1.7.1)\n",
            "Requirement already satisfied: numpy>=1.15.4 in /usr/local/lib/python3.6/dist-packages (from pandas>=0.23.0->geopandas) (1.19.5)\n",
            "Requirement already satisfied: python-dateutil>=2.7.3 in /usr/local/lib/python3.6/dist-packages (from pandas>=0.23.0->geopandas) (2.8.1)\n",
            "Requirement already satisfied: pytz>=2017.2 in /usr/local/lib/python3.6/dist-packages (from pandas>=0.23.0->geopandas) (2018.9)\n",
            "Collecting cligj>=0.5\n",
            "  Downloading https://files.pythonhosted.org/packages/42/1e/947eadf10d6804bf276eb8a038bd5307996dceaaa41cfd21b7a15ec62f5d/cligj-0.7.1-py3-none-any.whl\n",
            "Requirement already satisfied: attrs>=17 in /usr/local/lib/python3.6/dist-packages (from fiona->geopandas) (20.3.0)\n",
            "Requirement already satisfied: certifi in /usr/local/lib/python3.6/dist-packages (from fiona->geopandas) (2020.12.5)\n",
            "Requirement already satisfied: six>=1.7 in /usr/local/lib/python3.6/dist-packages (from fiona->geopandas) (1.15.0)\n",
            "Requirement already satisfied: click<8,>=4.0 in /usr/local/lib/python3.6/dist-packages (from fiona->geopandas) (7.1.2)\n",
            "Collecting click-plugins>=1.0\n",
            "  Downloading https://files.pythonhosted.org/packages/e9/da/824b92d9942f4e472702488857914bdd50f73021efea15b4cad9aca8ecef/click_plugins-1.1.1-py2.py3-none-any.whl\n",
            "Collecting munch\n",
            "  Downloading https://files.pythonhosted.org/packages/cc/ab/85d8da5c9a45e072301beb37ad7f833cd344e04c817d97e0cc75681d248f/munch-2.5.0-py2.py3-none-any.whl\n",
            "Installing collected packages: cligj, click-plugins, munch, fiona, pyproj, geopandas\n",
            "Successfully installed click-plugins-1.1.1 cligj-0.7.1 fiona-1.8.18 geopandas-0.8.2 munch-2.5.0 pyproj-3.0.0.post1\n"
          ],
          "name": "stdout"
        }
      ]
    },
    {
      "cell_type": "markdown",
      "metadata": {
        "id": "QCcBUvzCN-wV"
      },
      "source": [
        ""
      ]
    },
    {
      "cell_type": "code",
      "metadata": {
        "colab": {
          "base_uri": "https://localhost:8080/",
          "height": 452
        },
        "id": "hKPJrxQa4BFQ",
        "outputId": "21c91c08-1448-473a-c7f8-b03993dd9699"
      },
      "source": [
        "#Data Visualization of Number of Cases world-wide \r\n",
        "import seaborn as sns\r\n",
        "from shapely.geometry import Point\r\n",
        "import geopandas as gpd\r\n",
        "from geopandas import GeoDataFrame\r\n",
        "\r\n",
        "geometry = [Point(xy) for xy in zip(covid_19_df['Long'], covid_19_df['Lat'])]\r\n",
        "gdf = GeoDataFrame(covid_19_df[['Lat','Long']], geometry=geometry)   \r\n",
        "\r\n",
        "#this is a simple map that goes with geopandas\r\n",
        "world = gpd.read_file(gpd.datasets.get_path('naturalearth_lowres'))\r\n",
        "gdf.plot(ax=world.plot(figsize=(15, 10)), marker='o', color='red', markersize=15);"
      ],
      "execution_count": 5,
      "outputs": [
        {
          "output_type": "display_data",
          "data": {
            "image/png": "[encoded data removed]",
            "text/plain": [
              "<Figure size 1080x720 with 1 Axes>"
            ]
          },
          "metadata": {
            "tags": [],
            "needs_background": "light"
          }
        }
      ]
    },
    {
      "cell_type": "code",
      "metadata": {
        "colab": {
          "base_uri": "https://localhost:8080/"
        },
        "id": "TErxWC5wtUK5",
        "outputId": "7baf4a58-e8b9-4c83-d4f0-c5dbbc22d529"
      },
      "source": [
        "#shape of the data\n",
        "covid_19_df.shape\n"
      ],
      "execution_count": 6,
      "outputs": [
        {
          "output_type": "execute_result",
          "data": {
            "text/plain": [
              "(273, 397)"
            ]
          },
          "metadata": {
            "tags": []
          },
          "execution_count": 6
        }
      ]
    },
    {
      "cell_type": "code",
      "metadata": {
        "colab": {
          "base_uri": "https://localhost:8080/",
          "height": 402
        },
        "id": "GPepilTKtUK6",
        "outputId": "d2db6e3d-f905-4616-bdfb-ec3dce6130be"
      },
      "source": [
        "#changing the dataframe format from wide to long using melt() function\n",
        "covid_19_df_long = pd.melt(covid_19_df, id_vars=['Province/State', 'Country/Region', 'Lat', 'Long'],\n",
        "                          var_name = 'Dates',\n",
        "                          value_name = 'Number_of_cases')\n",
        "covid_19_df_long"
      ],
      "execution_count": 7,
      "outputs": [
        {
          "output_type": "execute_result",
          "data": {
            "text/html": [
              "<div>\n",
              "<style scoped>\n",
              "    .dataframe tbody tr th:only-of-type {\n",
              "        vertical-align: middle;\n",
              "    }\n",
              "\n",
              "    .dataframe tbody tr th {\n",
              "        vertical-align: top;\n",
              "    }\n",
              "\n",
              "    .dataframe thead th {\n",
              "        text-align: right;\n",
              "    }\n",
              "</style>\n",
              "<table border=\"1\" class=\"dataframe\">\n",
              "  <thead>\n",
              "    <tr style=\"text-align: right;\">\n",
              "      <th></th>\n",
              "      <th>Province/State</th>\n",
              "      <th>Country/Region</th>\n",
              "      <th>Lat</th>\n",
              "      <th>Long</th>\n",
              "      <th>Dates</th>\n",
              "      <th>Number_of_cases</th>\n",
              "    </tr>\n",
              "  </thead>\n",
              "  <tbody>\n",
              "    <tr>\n",
              "      <th>0</th>\n",
              "      <td>NaN</td>\n",
              "      <td>Afghanistan</td>\n",
              "      <td>33.939110</td>\n",
              "      <td>67.709953</td>\n",
              "      <td>1/22/20</td>\n",
              "      <td>0</td>\n",
              "    </tr>\n",
              "    <tr>\n",
              "      <th>1</th>\n",
              "      <td>NaN</td>\n",
              "      <td>Albania</td>\n",
              "      <td>41.153300</td>\n",
              "      <td>20.168300</td>\n",
              "      <td>1/22/20</td>\n",
              "      <td>0</td>\n",
              "    </tr>\n",
              "    <tr>\n",
              "      <th>2</th>\n",
              "      <td>NaN</td>\n",
              "      <td>Algeria</td>\n",
              "      <td>28.033900</td>\n",
              "      <td>1.659600</td>\n",
              "      <td>1/22/20</td>\n",
              "      <td>0</td>\n",
              "    </tr>\n",
              "    <tr>\n",
              "      <th>3</th>\n",
              "      <td>NaN</td>\n",
              "      <td>Andorra</td>\n",
              "      <td>42.506300</td>\n",
              "      <td>1.521800</td>\n",
              "      <td>1/22/20</td>\n",
              "      <td>0</td>\n",
              "    </tr>\n",
              "    <tr>\n",
              "      <th>4</th>\n",
              "      <td>NaN</td>\n",
              "      <td>Angola</td>\n",
              "      <td>-11.202700</td>\n",
              "      <td>17.873900</td>\n",
              "      <td>1/22/20</td>\n",
              "      <td>0</td>\n",
              "    </tr>\n",
              "    <tr>\n",
              "      <th>...</th>\n",
              "      <td>...</td>\n",
              "      <td>...</td>\n",
              "      <td>...</td>\n",
              "      <td>...</td>\n",
              "      <td>...</td>\n",
              "      <td>...</td>\n",
              "    </tr>\n",
              "    <tr>\n",
              "      <th>107284</th>\n",
              "      <td>NaN</td>\n",
              "      <td>Vietnam</td>\n",
              "      <td>14.058324</td>\n",
              "      <td>108.277199</td>\n",
              "      <td>2/17/21</td>\n",
              "      <td>2329</td>\n",
              "    </tr>\n",
              "    <tr>\n",
              "      <th>107285</th>\n",
              "      <td>NaN</td>\n",
              "      <td>West Bank and Gaza</td>\n",
              "      <td>31.952200</td>\n",
              "      <td>35.233200</td>\n",
              "      <td>2/17/21</td>\n",
              "      <td>170527</td>\n",
              "    </tr>\n",
              "    <tr>\n",
              "      <th>107286</th>\n",
              "      <td>NaN</td>\n",
              "      <td>Yemen</td>\n",
              "      <td>15.552727</td>\n",
              "      <td>48.516388</td>\n",
              "      <td>2/17/21</td>\n",
              "      <td>2151</td>\n",
              "    </tr>\n",
              "    <tr>\n",
              "      <th>107287</th>\n",
              "      <td>NaN</td>\n",
              "      <td>Zambia</td>\n",
              "      <td>-13.133897</td>\n",
              "      <td>27.849332</td>\n",
              "      <td>2/17/21</td>\n",
              "      <td>71677</td>\n",
              "    </tr>\n",
              "    <tr>\n",
              "      <th>107288</th>\n",
              "      <td>NaN</td>\n",
              "      <td>Zimbabwe</td>\n",
              "      <td>-19.015438</td>\n",
              "      <td>29.154857</td>\n",
              "      <td>2/17/21</td>\n",
              "      <td>35423</td>\n",
              "    </tr>\n",
              "  </tbody>\n",
              "</table>\n",
              "<p>107289 rows × 6 columns</p>\n",
              "</div>"
            ],
            "text/plain": [
              "       Province/State      Country/Region  ...    Dates  Number_of_cases\n",
              "0                 NaN         Afghanistan  ...  1/22/20                0\n",
              "1                 NaN             Albania  ...  1/22/20                0\n",
              "2                 NaN             Algeria  ...  1/22/20                0\n",
              "3                 NaN             Andorra  ...  1/22/20                0\n",
              "4                 NaN              Angola  ...  1/22/20                0\n",
              "...               ...                 ...  ...      ...              ...\n",
              "107284            NaN             Vietnam  ...  2/17/21             2329\n",
              "107285            NaN  West Bank and Gaza  ...  2/17/21           170527\n",
              "107286            NaN               Yemen  ...  2/17/21             2151\n",
              "107287            NaN              Zambia  ...  2/17/21            71677\n",
              "107288            NaN            Zimbabwe  ...  2/17/21            35423\n",
              "\n",
              "[107289 rows x 6 columns]"
            ]
          },
          "metadata": {
            "tags": []
          },
          "execution_count": 7
        }
      ]
    },
    {
      "cell_type": "code",
      "metadata": {
        "colab": {
          "base_uri": "https://localhost:8080/"
        },
        "id": "evqfViFFtUK9",
        "outputId": "ec232f7a-0d79-48db-e3a2-60bcc2033dee"
      },
      "source": [
        "#shape of the changed format\n",
        "covid_19_df_long.shape\n"
      ],
      "execution_count": 8,
      "outputs": [
        {
          "output_type": "execute_result",
          "data": {
            "text/plain": [
              "(107289, 6)"
            ]
          },
          "metadata": {
            "tags": []
          },
          "execution_count": 8
        }
      ]
    },
    {
      "cell_type": "code",
      "metadata": {
        "colab": {
          "base_uri": "https://localhost:8080/"
        },
        "id": "qYs8eb7LtUK_",
        "outputId": "a9f7c932-f688-4577-9445-3e8d4023665d"
      },
      "source": [
        "covid_19_df_long.index"
      ],
      "execution_count": 9,
      "outputs": [
        {
          "output_type": "execute_result",
          "data": {
            "text/plain": [
              "RangeIndex(start=0, stop=107289, step=1)"
            ]
          },
          "metadata": {
            "tags": []
          },
          "execution_count": 9
        }
      ]
    },
    {
      "cell_type": "code",
      "metadata": {
        "colab": {
          "base_uri": "https://localhost:8080/"
        },
        "id": "IfCkcGPE3op0",
        "outputId": "46bbee69-4cd4-49dc-8cc3-7da4b17707cf"
      },
      "source": [
        "#Top 10 Countries with confirmed number of cases\r\n",
        "top_10 = covid_19_df_long.groupby(['Country/Region']).Number_of_cases.sum().sort_values(ascending=False)\r\n",
        "top_10"
      ],
      "execution_count": 10,
      "outputs": [
        {
          "output_type": "execute_result",
          "data": {
            "text/plain": [
              "Country/Region\n",
              "US                  2917455878\n",
              "India               1595769302\n",
              "Brazil              1315404571\n",
              "Russia               469691189\n",
              "France               358535234\n",
              "                       ...    \n",
              "Solomon Islands           1896\n",
              "Marshall Islands           400\n",
              "Samoa                      178\n",
              "Vanuatu                    100\n",
              "Micronesia                  28\n",
              "Name: Number_of_cases, Length: 192, dtype: int64"
            ]
          },
          "metadata": {
            "tags": []
          },
          "execution_count": 10
        }
      ]
    },
    {
      "cell_type": "code",
      "metadata": {
        "colab": {
          "base_uri": "https://localhost:8080/",
          "height": 785
        },
        "id": "INjfymBO8slP",
        "outputId": "8337e931-9c42-4547-fe9d-e20053f5f3c2"
      },
      "source": [
        "# Top 50 Country wise Confirmed cases acc to given data\r\n",
        "\r\n",
        "fig, ax = plt.subplots(figsize=(10, 13))\r\n",
        "sns.barplot(y=top_10.index[:50], x=top_10.values[:50])"
      ],
      "execution_count": 11,
      "outputs": [
        {
          "output_type": "execute_result",
          "data": {
            "text/plain": [
              "<matplotlib.axes._subplots.AxesSubplot at 0x7fb58db66e48>"
            ]
          },
          "metadata": {
            "tags": []
          },
          "execution_count": 11
        },
        {
          "output_type": "display_data",
          "data": {
            "image/png": "[encoded data removed]",
            "text/plain": [
              "<Figure size 720x936 with 1 Axes>"
            ]
          },
          "metadata": {
            "tags": [],
            "needs_background": "light"
          }
        }
      ]
    },
    {
      "cell_type": "code",
      "metadata": {
        "colab": {
          "base_uri": "https://localhost:8080/"
        },
        "id": "XHDSOYZBtULB",
        "outputId": "64936280-4726-46f6-d450-87c20cbc164b"
      },
      "source": [
        "#dsiplaying the columns in the dataset\r\n",
        "covid_19_df_long.columns"
      ],
      "execution_count": 12,
      "outputs": [
        {
          "output_type": "execute_result",
          "data": {
            "text/plain": [
              "Index(['Province/State', 'Country/Region', 'Lat', 'Long', 'Dates',\n",
              "       'Number_of_cases'],\n",
              "      dtype='object')"
            ]
          },
          "metadata": {
            "tags": []
          },
          "execution_count": 12
        }
      ]
    },
    {
      "cell_type": "code",
      "metadata": {
        "colab": {
          "base_uri": "https://localhost:8080/"
        },
        "id": "Zlxf4ka4tULD",
        "outputId": "a5d328c1-7700-4f39-dd7c-9955d92013f7"
      },
      "source": [
        "#checking for missing values\n",
        "covid_19_df_long.isnull().sum()"
      ],
      "execution_count": 13,
      "outputs": [
        {
          "output_type": "execute_result",
          "data": {
            "text/plain": [
              "Province/State     74277\n",
              "Country/Region         0\n",
              "Lat                  393\n",
              "Long                 393\n",
              "Dates                  0\n",
              "Number_of_cases        0\n",
              "dtype: int64"
            ]
          },
          "metadata": {
            "tags": []
          },
          "execution_count": 13
        }
      ]
    },
    {
      "cell_type": "code",
      "metadata": {
        "colab": {
          "base_uri": "https://localhost:8080/",
          "height": 402
        },
        "id": "TRTsW-8otULF",
        "outputId": "f487f3e0-2317-40aa-98dc-fca80ba9d6de"
      },
      "source": [
        "#Dropping the Repatriated Travellers as there is a missing values for Lat and Long\n",
        "covid_19_df_long.dropna(axis=0, subset=['Lat'])\n",
        "covid_19_df_long.dropna(axis=0, subset=['Long'])\n",
        "covid_19_df_long"
      ],
      "execution_count": 14,
      "outputs": [
        {
          "output_type": "execute_result",
          "data": {
            "text/html": [
              "<div>\n",
              "<style scoped>\n",
              "    .dataframe tbody tr th:only-of-type {\n",
              "        vertical-align: middle;\n",
              "    }\n",
              "\n",
              "    .dataframe tbody tr th {\n",
              "        vertical-align: top;\n",
              "    }\n",
              "\n",
              "    .dataframe thead th {\n",
              "        text-align: right;\n",
              "    }\n",
              "</style>\n",
              "<table border=\"1\" class=\"dataframe\">\n",
              "  <thead>\n",
              "    <tr style=\"text-align: right;\">\n",
              "      <th></th>\n",
              "      <th>Province/State</th>\n",
              "      <th>Country/Region</th>\n",
              "      <th>Lat</th>\n",
              "      <th>Long</th>\n",
              "      <th>Dates</th>\n",
              "      <th>Number_of_cases</th>\n",
              "    </tr>\n",
              "  </thead>\n",
              "  <tbody>\n",
              "    <tr>\n",
              "      <th>0</th>\n",
              "      <td>NaN</td>\n",
              "      <td>Afghanistan</td>\n",
              "      <td>33.939110</td>\n",
              "      <td>67.709953</td>\n",
              "      <td>1/22/20</td>\n",
              "      <td>0</td>\n",
              "    </tr>\n",
              "    <tr>\n",
              "      <th>1</th>\n",
              "      <td>NaN</td>\n",
              "      <td>Albania</td>\n",
              "      <td>41.153300</td>\n",
              "      <td>20.168300</td>\n",
              "      <td>1/22/20</td>\n",
              "      <td>0</td>\n",
              "    </tr>\n",
              "    <tr>\n",
              "      <th>2</th>\n",
              "      <td>NaN</td>\n",
              "      <td>Algeria</td>\n",
              "      <td>28.033900</td>\n",
              "      <td>1.659600</td>\n",
              "      <td>1/22/20</td>\n",
              "      <td>0</td>\n",
              "    </tr>\n",
              "    <tr>\n",
              "      <th>3</th>\n",
              "      <td>NaN</td>\n",
              "      <td>Andorra</td>\n",
              "      <td>42.506300</td>\n",
              "      <td>1.521800</td>\n",
              "      <td>1/22/20</td>\n",
              "      <td>0</td>\n",
              "    </tr>\n",
              "    <tr>\n",
              "      <th>4</th>\n",
              "      <td>NaN</td>\n",
              "      <td>Angola</td>\n",
              "      <td>-11.202700</td>\n",
              "      <td>17.873900</td>\n",
              "      <td>1/22/20</td>\n",
              "      <td>0</td>\n",
              "    </tr>\n",
              "    <tr>\n",
              "      <th>...</th>\n",
              "      <td>...</td>\n",
              "      <td>...</td>\n",
              "      <td>...</td>\n",
              "      <td>...</td>\n",
              "      <td>...</td>\n",
              "      <td>...</td>\n",
              "    </tr>\n",
              "    <tr>\n",
              "      <th>107284</th>\n",
              "      <td>NaN</td>\n",
              "      <td>Vietnam</td>\n",
              "      <td>14.058324</td>\n",
              "      <td>108.277199</td>\n",
              "      <td>2/17/21</td>\n",
              "      <td>2329</td>\n",
              "    </tr>\n",
              "    <tr>\n",
              "      <th>107285</th>\n",
              "      <td>NaN</td>\n",
              "      <td>West Bank and Gaza</td>\n",
              "      <td>31.952200</td>\n",
              "      <td>35.233200</td>\n",
              "      <td>2/17/21</td>\n",
              "      <td>170527</td>\n",
              "    </tr>\n",
              "    <tr>\n",
              "      <th>107286</th>\n",
              "      <td>NaN</td>\n",
              "      <td>Yemen</td>\n",
              "      <td>15.552727</td>\n",
              "      <td>48.516388</td>\n",
              "      <td>2/17/21</td>\n",
              "      <td>2151</td>\n",
              "    </tr>\n",
              "    <tr>\n",
              "      <th>107287</th>\n",
              "      <td>NaN</td>\n",
              "      <td>Zambia</td>\n",
              "      <td>-13.133897</td>\n",
              "      <td>27.849332</td>\n",
              "      <td>2/17/21</td>\n",
              "      <td>71677</td>\n",
              "    </tr>\n",
              "    <tr>\n",
              "      <th>107288</th>\n",
              "      <td>NaN</td>\n",
              "      <td>Zimbabwe</td>\n",
              "      <td>-19.015438</td>\n",
              "      <td>29.154857</td>\n",
              "      <td>2/17/21</td>\n",
              "      <td>35423</td>\n",
              "    </tr>\n",
              "  </tbody>\n",
              "</table>\n",
              "<p>107289 rows × 6 columns</p>\n",
              "</div>"
            ],
            "text/plain": [
              "       Province/State      Country/Region  ...    Dates  Number_of_cases\n",
              "0                 NaN         Afghanistan  ...  1/22/20                0\n",
              "1                 NaN             Albania  ...  1/22/20                0\n",
              "2                 NaN             Algeria  ...  1/22/20                0\n",
              "3                 NaN             Andorra  ...  1/22/20                0\n",
              "4                 NaN              Angola  ...  1/22/20                0\n",
              "...               ...                 ...  ...      ...              ...\n",
              "107284            NaN             Vietnam  ...  2/17/21             2329\n",
              "107285            NaN  West Bank and Gaza  ...  2/17/21           170527\n",
              "107286            NaN               Yemen  ...  2/17/21             2151\n",
              "107287            NaN              Zambia  ...  2/17/21            71677\n",
              "107288            NaN            Zimbabwe  ...  2/17/21            35423\n",
              "\n",
              "[107289 rows x 6 columns]"
            ]
          },
          "metadata": {
            "tags": []
          },
          "execution_count": 14
        }
      ]
    },
    {
      "cell_type": "code",
      "metadata": {
        "colab": {
          "base_uri": "https://localhost:8080/"
        },
        "id": "jd1xBSTPtULH",
        "outputId": "f1e3c617-a21d-4c6b-bc0f-f6ac0a5f14f1"
      },
      "source": [
        "\n",
        "#typecasting the categorical features to a category dtype\n",
        "covid_19_df_long['Province/State'] = covid_19_df_long['Province/State'].astype('category').cat.codes\n",
        "covid_19_df_long['Country/Region'] = covid_19_df_long['Country/Region'].astype('category').cat.codes\n",
        "\n",
        "print(covid_19_df_long.dtypes)"
      ],
      "execution_count": 15,
      "outputs": [
        {
          "output_type": "stream",
          "text": [
            "Province/State        int8\n",
            "Country/Region       int16\n",
            "Lat                float64\n",
            "Long               float64\n",
            "Dates               object\n",
            "Number_of_cases      int64\n",
            "dtype: object\n"
          ],
          "name": "stdout"
        }
      ]
    },
    {
      "cell_type": "code",
      "metadata": {
        "id": "EBiS7QfDtULJ"
      },
      "source": [
        "X =covid_19_df_long[['Province/State','Country/Region','Lat','Long','Dates']]\n",
        "\n",
        "y = covid_19_df_long['Number_of_cases']"
      ],
      "execution_count": 16,
      "outputs": []
    },
    {
      "cell_type": "markdown",
      "metadata": {
        "id": "aKcjyBwUNnl_"
      },
      "source": [
        "#Spliting the data for Training and Testing"
      ]
    },
    {
      "cell_type": "code",
      "metadata": {
        "id": "hBImMQ_3tULK"
      },
      "source": [
        "from sklearn.model_selection import train_test_split\n",
        "X_train, X_test, y_train, y_test = train_test_split(X,y, test_size =0.2, random_state= 0)  #training and trsting the data\n"
      ],
      "execution_count": 17,
      "outputs": []
    },
    {
      "cell_type": "code",
      "metadata": {
        "colab": {
          "base_uri": "https://localhost:8080/",
          "height": 402
        },
        "id": "KSc9TEOGtULL",
        "outputId": "f7e560f5-d605-4423-c7b0-337ec04b94af"
      },
      "source": [
        "X_train"
      ],
      "execution_count": 18,
      "outputs": [
        {
          "output_type": "execute_result",
          "data": {
            "text/html": [
              "<div>\n",
              "<style scoped>\n",
              "    .dataframe tbody tr th:only-of-type {\n",
              "        vertical-align: middle;\n",
              "    }\n",
              "\n",
              "    .dataframe tbody tr th {\n",
              "        vertical-align: top;\n",
              "    }\n",
              "\n",
              "    .dataframe thead th {\n",
              "        text-align: right;\n",
              "    }\n",
              "</style>\n",
              "<table border=\"1\" class=\"dataframe\">\n",
              "  <thead>\n",
              "    <tr style=\"text-align: right;\">\n",
              "      <th></th>\n",
              "      <th>Province/State</th>\n",
              "      <th>Country/Region</th>\n",
              "      <th>Lat</th>\n",
              "      <th>Long</th>\n",
              "      <th>Dates</th>\n",
              "    </tr>\n",
              "  </thead>\n",
              "  <tbody>\n",
              "    <tr>\n",
              "      <th>52916</th>\n",
              "      <td>-1</td>\n",
              "      <td>156</td>\n",
              "      <td>48.669000</td>\n",
              "      <td>19.699000</td>\n",
              "      <td>8/02/2020</td>\n",
              "    </tr>\n",
              "    <tr>\n",
              "      <th>76261</th>\n",
              "      <td>-1</td>\n",
              "      <td>40</td>\n",
              "      <td>-4.038300</td>\n",
              "      <td>21.758700</td>\n",
              "      <td>10/27/20</td>\n",
              "    </tr>\n",
              "    <tr>\n",
              "      <th>4315</th>\n",
              "      <td>-1</td>\n",
              "      <td>149</td>\n",
              "      <td>0.186400</td>\n",
              "      <td>6.613100</td>\n",
              "      <td>2/06/2020</td>\n",
              "    </tr>\n",
              "    <tr>\n",
              "      <th>64665</th>\n",
              "      <td>-1</td>\n",
              "      <td>166</td>\n",
              "      <td>60.128161</td>\n",
              "      <td>18.643501</td>\n",
              "      <td>9/14/20</td>\n",
              "    </tr>\n",
              "    <tr>\n",
              "      <th>2329</th>\n",
              "      <td>-1</td>\n",
              "      <td>78</td>\n",
              "      <td>64.963100</td>\n",
              "      <td>-19.020800</td>\n",
              "      <td>1/30/20</td>\n",
              "    </tr>\n",
              "    <tr>\n",
              "      <th>...</th>\n",
              "      <td>...</td>\n",
              "      <td>...</td>\n",
              "      <td>...</td>\n",
              "      <td>...</td>\n",
              "      <td>...</td>\n",
              "    </tr>\n",
              "    <tr>\n",
              "      <th>21243</th>\n",
              "      <td>-1</td>\n",
              "      <td>151</td>\n",
              "      <td>14.497400</td>\n",
              "      <td>-14.452400</td>\n",
              "      <td>4/08/2020</td>\n",
              "    </tr>\n",
              "    <tr>\n",
              "      <th>45891</th>\n",
              "      <td>-1</td>\n",
              "      <td>20</td>\n",
              "      <td>-16.290200</td>\n",
              "      <td>-63.588700</td>\n",
              "      <td>7/08/2020</td>\n",
              "    </tr>\n",
              "    <tr>\n",
              "      <th>42613</th>\n",
              "      <td>-1</td>\n",
              "      <td>18</td>\n",
              "      <td>9.307700</td>\n",
              "      <td>2.315800</td>\n",
              "      <td>6/26/20</td>\n",
              "    </tr>\n",
              "    <tr>\n",
              "      <th>43567</th>\n",
              "      <td>-1</td>\n",
              "      <td>93</td>\n",
              "      <td>29.311660</td>\n",
              "      <td>47.481766</td>\n",
              "      <td>6/29/20</td>\n",
              "    </tr>\n",
              "    <tr>\n",
              "      <th>68268</th>\n",
              "      <td>-1</td>\n",
              "      <td>11</td>\n",
              "      <td>25.025885</td>\n",
              "      <td>-78.035889</td>\n",
              "      <td>9/28/20</td>\n",
              "    </tr>\n",
              "  </tbody>\n",
              "</table>\n",
              "<p>85831 rows × 5 columns</p>\n",
              "</div>"
            ],
            "text/plain": [
              "       Province/State  Country/Region        Lat       Long      Dates\n",
              "52916              -1             156  48.669000  19.699000  8/02/2020\n",
              "76261              -1              40  -4.038300  21.758700   10/27/20\n",
              "4315               -1             149   0.186400   6.613100  2/06/2020\n",
              "64665              -1             166  60.128161  18.643501    9/14/20\n",
              "2329               -1              78  64.963100 -19.020800    1/30/20\n",
              "...               ...             ...        ...        ...        ...\n",
              "21243              -1             151  14.497400 -14.452400  4/08/2020\n",
              "45891              -1              20 -16.290200 -63.588700  7/08/2020\n",
              "42613              -1              18   9.307700   2.315800    6/26/20\n",
              "43567              -1              93  29.311660  47.481766    6/29/20\n",
              "68268              -1              11  25.025885 -78.035889    9/28/20\n",
              "\n",
              "[85831 rows x 5 columns]"
            ]
          },
          "metadata": {
            "tags": []
          },
          "execution_count": 18
        }
      ]
    },
    {
      "cell_type": "code",
      "metadata": {
        "colab": {
          "base_uri": "https://localhost:8080/",
          "height": 402
        },
        "id": "CLrOlXsWtULM",
        "outputId": "da2bff53-255e-47e3-d57c-a3c0ed0b4806"
      },
      "source": [
        "X_test"
      ],
      "execution_count": 19,
      "outputs": [
        {
          "output_type": "execute_result",
          "data": {
            "text/html": [
              "<div>\n",
              "<style scoped>\n",
              "    .dataframe tbody tr th:only-of-type {\n",
              "        vertical-align: middle;\n",
              "    }\n",
              "\n",
              "    .dataframe tbody tr th {\n",
              "        vertical-align: top;\n",
              "    }\n",
              "\n",
              "    .dataframe thead th {\n",
              "        text-align: right;\n",
              "    }\n",
              "</style>\n",
              "<table border=\"1\" class=\"dataframe\">\n",
              "  <thead>\n",
              "    <tr style=\"text-align: right;\">\n",
              "      <th></th>\n",
              "      <th>Province/State</th>\n",
              "      <th>Country/Region</th>\n",
              "      <th>Lat</th>\n",
              "      <th>Long</th>\n",
              "      <th>Dates</th>\n",
              "    </tr>\n",
              "  </thead>\n",
              "  <tbody>\n",
              "    <tr>\n",
              "      <th>69734</th>\n",
              "      <td>18</td>\n",
              "      <td>62</td>\n",
              "      <td>-17.679700</td>\n",
              "      <td>149.406800</td>\n",
              "      <td>10/03/2020</td>\n",
              "    </tr>\n",
              "    <tr>\n",
              "      <th>35218</th>\n",
              "      <td>-1</td>\n",
              "      <td>1</td>\n",
              "      <td>41.153300</td>\n",
              "      <td>20.168300</td>\n",
              "      <td>5/30/20</td>\n",
              "    </tr>\n",
              "    <tr>\n",
              "      <th>58618</th>\n",
              "      <td>-1</td>\n",
              "      <td>125</td>\n",
              "      <td>-40.900600</td>\n",
              "      <td>174.886000</td>\n",
              "      <td>8/23/20</td>\n",
              "    </tr>\n",
              "    <tr>\n",
              "      <th>104458</th>\n",
              "      <td>-1</td>\n",
              "      <td>105</td>\n",
              "      <td>-18.766947</td>\n",
              "      <td>46.869107</td>\n",
              "      <td>2/07/2021</td>\n",
              "    </tr>\n",
              "    <tr>\n",
              "      <th>21896</th>\n",
              "      <td>-1</td>\n",
              "      <td>34</td>\n",
              "      <td>15.454200</td>\n",
              "      <td>18.732200</td>\n",
              "      <td>4/11/2020</td>\n",
              "    </tr>\n",
              "    <tr>\n",
              "      <th>...</th>\n",
              "      <td>...</td>\n",
              "      <td>...</td>\n",
              "      <td>...</td>\n",
              "      <td>...</td>\n",
              "      <td>...</td>\n",
              "    </tr>\n",
              "    <tr>\n",
              "      <th>83980</th>\n",
              "      <td>-1</td>\n",
              "      <td>102</td>\n",
              "      <td>55.169400</td>\n",
              "      <td>23.881300</td>\n",
              "      <td>11/24/20</td>\n",
              "    </tr>\n",
              "    <tr>\n",
              "      <th>98891</th>\n",
              "      <td>27</td>\n",
              "      <td>36</td>\n",
              "      <td>26.815400</td>\n",
              "      <td>106.874800</td>\n",
              "      <td>1/18/21</td>\n",
              "    </tr>\n",
              "    <tr>\n",
              "      <th>64417</th>\n",
              "      <td>76</td>\n",
              "      <td>182</td>\n",
              "      <td>21.694000</td>\n",
              "      <td>-71.797900</td>\n",
              "      <td>9/13/20</td>\n",
              "    </tr>\n",
              "    <tr>\n",
              "      <th>87372</th>\n",
              "      <td>71</td>\n",
              "      <td>8</td>\n",
              "      <td>-34.928500</td>\n",
              "      <td>138.600700</td>\n",
              "      <td>12/07/2020</td>\n",
              "    </tr>\n",
              "    <tr>\n",
              "      <th>28230</th>\n",
              "      <td>-1</td>\n",
              "      <td>55</td>\n",
              "      <td>1.650800</td>\n",
              "      <td>10.267900</td>\n",
              "      <td>5/04/2020</td>\n",
              "    </tr>\n",
              "  </tbody>\n",
              "</table>\n",
              "<p>21458 rows × 5 columns</p>\n",
              "</div>"
            ],
            "text/plain": [
              "        Province/State  Country/Region        Lat        Long       Dates\n",
              "69734               18              62 -17.679700  149.406800  10/03/2020\n",
              "35218               -1               1  41.153300   20.168300     5/30/20\n",
              "58618               -1             125 -40.900600  174.886000     8/23/20\n",
              "104458              -1             105 -18.766947   46.869107   2/07/2021\n",
              "21896               -1              34  15.454200   18.732200   4/11/2020\n",
              "...                ...             ...        ...         ...         ...\n",
              "83980               -1             102  55.169400   23.881300    11/24/20\n",
              "98891               27              36  26.815400  106.874800     1/18/21\n",
              "64417               76             182  21.694000  -71.797900     9/13/20\n",
              "87372               71               8 -34.928500  138.600700  12/07/2020\n",
              "28230               -1              55   1.650800   10.267900   5/04/2020\n",
              "\n",
              "[21458 rows x 5 columns]"
            ]
          },
          "metadata": {
            "tags": []
          },
          "execution_count": 19
        }
      ]
    },
    {
      "cell_type": "code",
      "metadata": {
        "colab": {
          "base_uri": "https://localhost:8080/"
        },
        "id": "vHBGeEa-tULP",
        "outputId": "1e2bc78f-8405-480f-eb8f-2dbfe3e01604"
      },
      "source": [
        "y_train"
      ],
      "execution_count": 20,
      "outputs": [
        {
          "output_type": "execute_result",
          "data": {
            "text/plain": [
              "52916     2344\n",
              "76261    11191\n",
              "4315         0\n",
              "64665    86505\n",
              "2329         0\n",
              "         ...  \n",
              "21243      244\n",
              "45891    42984\n",
              "42613     1053\n",
              "43567    45524\n",
              "68268     3838\n",
              "Name: Number_of_cases, Length: 85831, dtype: int64"
            ]
          },
          "metadata": {
            "tags": []
          },
          "execution_count": 20
        }
      ]
    },
    {
      "cell_type": "code",
      "metadata": {
        "colab": {
          "base_uri": "https://localhost:8080/"
        },
        "id": "ylnjKaQXtULR",
        "outputId": "cc50bf0b-44f0-447b-8ee9-3cb69cbfa6cd"
      },
      "source": [
        "y_test"
      ],
      "execution_count": 21,
      "outputs": [
        {
          "output_type": "execute_result",
          "data": {
            "text/plain": [
              "69734      1964\n",
              "35218      1122\n",
              "58618      1683\n",
              "104458    19360\n",
              "21896        11\n",
              "          ...  \n",
              "83980     49368\n",
              "98891       147\n",
              "64417       646\n",
              "87372       562\n",
              "28230       315\n",
              "Name: Number_of_cases, Length: 21458, dtype: int64"
            ]
          },
          "metadata": {
            "tags": []
          },
          "execution_count": 21
        }
      ]
    }
  ]
}